{
 "cells": [
  {
   "cell_type": "code",
   "execution_count": 10,
   "id": "2139519c",
   "metadata": {},
   "outputs": [],
   "source": [
    "import tensorflow as tf"
   ]
  },
  {
   "cell_type": "code",
   "execution_count": 11,
   "id": "2e831856",
   "metadata": {},
   "outputs": [],
   "source": [
    "from glob import glob\n",
    "import os\n",
    "import mne\n",
    "import numpy as np\n",
    "import matplotlib.pyplot as plt\n",
    "import pandas as pd"
   ]
  },
  {
   "cell_type": "code",
   "execution_count": 12,
   "id": "c577147d",
   "metadata": {},
   "outputs": [
    {
     "name": "stdout",
     "output_type": "stream",
     "text": [
      "28\n"
     ]
    }
   ],
   "source": [
    "#read all file\n",
    "all_files_path=glob('dataverse_files/*.edf')\n",
    "print(len(all_files_path))"
   ]
  },
  {
   "cell_type": "code",
   "execution_count": 13,
   "id": "e0236c06",
   "metadata": {},
   "outputs": [
    {
     "data": {
      "text/plain": [
       "'dataverse_files\\\\h01.edf'"
      ]
     },
     "execution_count": 13,
     "metadata": {},
     "output_type": "execute_result"
    }
   ],
   "source": [
    "all_files_path[0]\n"
   ]
  },
  {
   "cell_type": "code",
   "execution_count": 14,
   "id": "8e2da446",
   "metadata": {},
   "outputs": [],
   "source": [
    "healthy_file_path=[i for i in all_files_path if  'h' in i.split('\\\\')[1]]\n",
    "patient_file_path=[i for i in all_files_path if  's' in i.split('\\\\')[1]]"
   ]
  },
  {
   "cell_type": "code",
   "execution_count": 15,
   "id": "6d2ce226",
   "metadata": {},
   "outputs": [],
   "source": [
    "def read_data(file_path):\n",
    "    datax=mne.io.read_raw_edf(file_path,preload=True)\n",
    "    datax.set_eeg_reference()\n",
    "    datax.filter(l_freq=1,h_freq=45)\n",
    "    epochs=mne.make_fixed_length_epochs(datax,duration=25,overlap=0)\n",
    "    epochs=epochs.get_data()\n",
    "    return epochs #trials,channel,length"
   ]
  },
  {
   "cell_type": "code",
   "execution_count": 16,
   "id": "5ae7f326",
   "metadata": {},
   "outputs": [
    {
     "name": "stdout",
     "output_type": "stream",
     "text": [
      "Extracting EDF parameters from C:\\Users\\DELL\\Final year\\dataverse_files\\h01.edf...\n",
      "EDF file detected\n",
      "Setting channel info structure...\n",
      "Creating raw.info structure...\n",
      "Reading 0 ... 231249  =      0.000 ...   924.996 secs...\n",
      "EEG channel type selected for re-referencing\n",
      "Applying average reference.\n",
      "Applying a custom ('EEG',) reference.\n",
      "Filtering raw data in 1 contiguous segment\n",
      "Setting up band-pass filter from 1 - 45 Hz\n",
      "\n",
      "FIR filter parameters\n",
      "---------------------\n",
      "Designing a one-pass, zero-phase, non-causal bandpass filter:\n",
      "- Windowed time-domain design (firwin) method\n",
      "- Hamming window with 0.0194 passband ripple and 53 dB stopband attenuation\n",
      "- Lower passband edge: 1.00\n",
      "- Lower transition bandwidth: 1.00 Hz (-6 dB cutoff frequency: 0.50 Hz)\n",
      "- Upper passband edge: 45.00 Hz\n",
      "- Upper transition bandwidth: 11.25 Hz (-6 dB cutoff frequency: 50.62 Hz)\n",
      "- Filter length: 825 samples (3.300 s)\n",
      "\n"
     ]
    },
    {
     "name": "stderr",
     "output_type": "stream",
     "text": [
      "[Parallel(n_jobs=1)]: Using backend SequentialBackend with 1 concurrent workers.\n",
      "[Parallel(n_jobs=1)]: Done   1 out of   1 | elapsed:    0.0s remaining:    0.0s\n",
      "[Parallel(n_jobs=1)]: Done   2 out of   2 | elapsed:    0.0s remaining:    0.0s\n",
      "[Parallel(n_jobs=1)]: Done   3 out of   3 | elapsed:    0.0s remaining:    0.0s\n",
      "[Parallel(n_jobs=1)]: Done   4 out of   4 | elapsed:    0.0s remaining:    0.0s\n"
     ]
    },
    {
     "name": "stdout",
     "output_type": "stream",
     "text": [
      "Not setting metadata\n",
      "37 matching events found\n",
      "No baseline correction applied\n",
      "0 projection items activated\n",
      "Using data from preloaded Raw for 37 events and 6250 original time points ...\n",
      "0 bad epochs dropped\n"
     ]
    },
    {
     "name": "stderr",
     "output_type": "stream",
     "text": [
      "[Parallel(n_jobs=1)]: Done  19 out of  19 | elapsed:    0.3s finished\n"
     ]
    }
   ],
   "source": [
    "data=read_data(healthy_file_path[0])\n"
   ]
  },
  {
   "cell_type": "code",
   "execution_count": 17,
   "id": "9e2b5f2b",
   "metadata": {},
   "outputs": [
    {
     "data": {
      "text/plain": [
       "(37, 19, 6250)"
      ]
     },
     "execution_count": 17,
     "metadata": {},
     "output_type": "execute_result"
    }
   ],
   "source": [
    "data.shape\n"
   ]
  },
  {
   "cell_type": "code",
   "execution_count": 18,
   "id": "7d297e6f",
   "metadata": {
    "scrolled": true
   },
   "outputs": [
    {
     "name": "stdout",
     "output_type": "stream",
     "text": [
      "Extracting EDF parameters from C:\\Users\\DELL\\Final year\\dataverse_files\\h01.edf...\n",
      "EDF file detected\n",
      "Setting channel info structure...\n",
      "Creating raw.info structure...\n",
      "Reading 0 ... 231249  =      0.000 ...   924.996 secs...\n",
      "EEG channel type selected for re-referencing\n",
      "Applying average reference.\n",
      "Applying a custom ('EEG',) reference.\n",
      "Filtering raw data in 1 contiguous segment\n",
      "Setting up band-pass filter from 1 - 45 Hz\n",
      "\n",
      "FIR filter parameters\n",
      "---------------------\n",
      "Designing a one-pass, zero-phase, non-causal bandpass filter:\n",
      "- Windowed time-domain design (firwin) method\n",
      "- Hamming window with 0.0194 passband ripple and 53 dB stopband attenuation\n",
      "- Lower passband edge: 1.00\n",
      "- Lower transition bandwidth: 1.00 Hz (-6 dB cutoff frequency: 0.50 Hz)\n",
      "- Upper passband edge: 45.00 Hz\n",
      "- Upper transition bandwidth: 11.25 Hz (-6 dB cutoff frequency: 50.62 Hz)\n",
      "- Filter length: 825 samples (3.300 s)\n",
      "\n"
     ]
    },
    {
     "name": "stderr",
     "output_type": "stream",
     "text": [
      "[Parallel(n_jobs=1)]: Using backend SequentialBackend with 1 concurrent workers.\n",
      "[Parallel(n_jobs=1)]: Done   1 out of   1 | elapsed:    0.0s remaining:    0.0s\n",
      "[Parallel(n_jobs=1)]: Done   2 out of   2 | elapsed:    0.0s remaining:    0.0s\n",
      "[Parallel(n_jobs=1)]: Done   3 out of   3 | elapsed:    0.0s remaining:    0.0s\n",
      "[Parallel(n_jobs=1)]: Done   4 out of   4 | elapsed:    0.0s remaining:    0.0s\n"
     ]
    },
    {
     "name": "stdout",
     "output_type": "stream",
     "text": [
      "Not setting metadata\n",
      "37 matching events found\n",
      "No baseline correction applied\n",
      "0 projection items activated\n",
      "Using data from preloaded Raw for 37 events and 6250 original time points ...\n",
      "0 bad epochs dropped\n",
      "Extracting EDF parameters from C:\\Users\\DELL\\Final year\\dataverse_files\\h02.edf...\n",
      "EDF file detected\n",
      "Setting channel info structure...\n",
      "Creating raw.info structure...\n",
      "Reading 0 ... 227499  =      0.000 ...   909.996 secs...\n"
     ]
    },
    {
     "name": "stderr",
     "output_type": "stream",
     "text": [
      "[Parallel(n_jobs=1)]: Done  19 out of  19 | elapsed:    0.3s finished\n"
     ]
    },
    {
     "name": "stdout",
     "output_type": "stream",
     "text": [
      "EEG channel type selected for re-referencing\n",
      "Applying average reference.\n",
      "Applying a custom ('EEG',) reference.\n",
      "Filtering raw data in 1 contiguous segment\n",
      "Setting up band-pass filter from 1 - 45 Hz\n",
      "\n",
      "FIR filter parameters\n",
      "---------------------\n",
      "Designing a one-pass, zero-phase, non-causal bandpass filter:\n",
      "- Windowed time-domain design (firwin) method\n",
      "- Hamming window with 0.0194 passband ripple and 53 dB stopband attenuation\n",
      "- Lower passband edge: 1.00\n",
      "- Lower transition bandwidth: 1.00 Hz (-6 dB cutoff frequency: 0.50 Hz)\n",
      "- Upper passband edge: 45.00 Hz\n",
      "- Upper transition bandwidth: 11.25 Hz (-6 dB cutoff frequency: 50.62 Hz)\n",
      "- Filter length: 825 samples (3.300 s)\n",
      "\n"
     ]
    },
    {
     "name": "stderr",
     "output_type": "stream",
     "text": [
      "[Parallel(n_jobs=1)]: Using backend SequentialBackend with 1 concurrent workers.\n",
      "[Parallel(n_jobs=1)]: Done   1 out of   1 | elapsed:    0.0s remaining:    0.0s\n",
      "[Parallel(n_jobs=1)]: Done   2 out of   2 | elapsed:    0.0s remaining:    0.0s\n",
      "[Parallel(n_jobs=1)]: Done   3 out of   3 | elapsed:    0.0s remaining:    0.0s\n",
      "[Parallel(n_jobs=1)]: Done   4 out of   4 | elapsed:    0.0s remaining:    0.0s\n"
     ]
    },
    {
     "name": "stdout",
     "output_type": "stream",
     "text": [
      "Not setting metadata\n",
      "36 matching events found\n",
      "No baseline correction applied\n",
      "0 projection items activated\n",
      "Using data from preloaded Raw for 36 events and 6250 original time points ...\n",
      "0 bad epochs dropped\n",
      "Extracting EDF parameters from C:\\Users\\DELL\\Final year\\dataverse_files\\h03.edf...\n",
      "EDF file detected\n",
      "Setting channel info structure...\n",
      "Creating raw.info structure...\n",
      "Reading 0 ... 227499  =      0.000 ...   909.996 secs...\n"
     ]
    },
    {
     "name": "stderr",
     "output_type": "stream",
     "text": [
      "[Parallel(n_jobs=1)]: Done  19 out of  19 | elapsed:    0.3s finished\n"
     ]
    },
    {
     "name": "stdout",
     "output_type": "stream",
     "text": [
      "EEG channel type selected for re-referencing\n",
      "Applying average reference.\n",
      "Applying a custom ('EEG',) reference.\n",
      "Filtering raw data in 1 contiguous segment\n",
      "Setting up band-pass filter from 1 - 45 Hz\n",
      "\n",
      "FIR filter parameters\n",
      "---------------------\n",
      "Designing a one-pass, zero-phase, non-causal bandpass filter:\n",
      "- Windowed time-domain design (firwin) method\n",
      "- Hamming window with 0.0194 passband ripple and 53 dB stopband attenuation\n",
      "- Lower passband edge: 1.00\n",
      "- Lower transition bandwidth: 1.00 Hz (-6 dB cutoff frequency: 0.50 Hz)\n",
      "- Upper passband edge: 45.00 Hz\n",
      "- Upper transition bandwidth: 11.25 Hz (-6 dB cutoff frequency: 50.62 Hz)\n",
      "- Filter length: 825 samples (3.300 s)\n",
      "\n"
     ]
    },
    {
     "name": "stderr",
     "output_type": "stream",
     "text": [
      "[Parallel(n_jobs=1)]: Using backend SequentialBackend with 1 concurrent workers.\n",
      "[Parallel(n_jobs=1)]: Done   1 out of   1 | elapsed:    0.0s remaining:    0.0s\n",
      "[Parallel(n_jobs=1)]: Done   2 out of   2 | elapsed:    0.0s remaining:    0.0s\n",
      "[Parallel(n_jobs=1)]: Done   3 out of   3 | elapsed:    0.0s remaining:    0.0s\n",
      "[Parallel(n_jobs=1)]: Done   4 out of   4 | elapsed:    0.0s remaining:    0.0s\n"
     ]
    },
    {
     "name": "stdout",
     "output_type": "stream",
     "text": [
      "Not setting metadata\n",
      "36 matching events found\n",
      "No baseline correction applied\n",
      "0 projection items activated\n",
      "Using data from preloaded Raw for 36 events and 6250 original time points ...\n",
      "0 bad epochs dropped\n",
      "Extracting EDF parameters from C:\\Users\\DELL\\Final year\\dataverse_files\\h04.edf...\n",
      "EDF file detected\n",
      "Setting channel info structure...\n",
      "Creating raw.info structure...\n",
      "Reading 0 ... 231249  =      0.000 ...   924.996 secs...\n"
     ]
    },
    {
     "name": "stderr",
     "output_type": "stream",
     "text": [
      "[Parallel(n_jobs=1)]: Done  19 out of  19 | elapsed:    0.3s finished\n"
     ]
    },
    {
     "name": "stdout",
     "output_type": "stream",
     "text": [
      "EEG channel type selected for re-referencing\n",
      "Applying average reference.\n",
      "Applying a custom ('EEG',) reference.\n",
      "Filtering raw data in 1 contiguous segment\n",
      "Setting up band-pass filter from 1 - 45 Hz\n",
      "\n",
      "FIR filter parameters\n",
      "---------------------\n",
      "Designing a one-pass, zero-phase, non-causal bandpass filter:\n",
      "- Windowed time-domain design (firwin) method\n",
      "- Hamming window with 0.0194 passband ripple and 53 dB stopband attenuation\n",
      "- Lower passband edge: 1.00\n",
      "- Lower transition bandwidth: 1.00 Hz (-6 dB cutoff frequency: 0.50 Hz)\n",
      "- Upper passband edge: 45.00 Hz\n",
      "- Upper transition bandwidth: 11.25 Hz (-6 dB cutoff frequency: 50.62 Hz)\n",
      "- Filter length: 825 samples (3.300 s)\n",
      "\n"
     ]
    },
    {
     "name": "stderr",
     "output_type": "stream",
     "text": [
      "[Parallel(n_jobs=1)]: Using backend SequentialBackend with 1 concurrent workers.\n",
      "[Parallel(n_jobs=1)]: Done   1 out of   1 | elapsed:    0.0s remaining:    0.0s\n",
      "[Parallel(n_jobs=1)]: Done   2 out of   2 | elapsed:    0.0s remaining:    0.0s\n",
      "[Parallel(n_jobs=1)]: Done   3 out of   3 | elapsed:    0.0s remaining:    0.0s\n",
      "[Parallel(n_jobs=1)]: Done   4 out of   4 | elapsed:    0.0s remaining:    0.0s\n"
     ]
    },
    {
     "name": "stdout",
     "output_type": "stream",
     "text": [
      "Not setting metadata\n",
      "37 matching events found\n",
      "No baseline correction applied\n",
      "0 projection items activated\n",
      "Using data from preloaded Raw for 37 events and 6250 original time points ...\n",
      "0 bad epochs dropped\n",
      "Extracting EDF parameters from C:\\Users\\DELL\\Final year\\dataverse_files\\h05.edf...\n",
      "EDF file detected\n",
      "Setting channel info structure...\n",
      "Creating raw.info structure...\n",
      "Reading 0 ... 236249  =      0.000 ...   944.996 secs...\n"
     ]
    },
    {
     "name": "stderr",
     "output_type": "stream",
     "text": [
      "[Parallel(n_jobs=1)]: Done  19 out of  19 | elapsed:    0.2s finished\n"
     ]
    },
    {
     "name": "stdout",
     "output_type": "stream",
     "text": [
      "EEG channel type selected for re-referencing\n",
      "Applying average reference.\n",
      "Applying a custom ('EEG',) reference.\n",
      "Filtering raw data in 1 contiguous segment\n",
      "Setting up band-pass filter from 1 - 45 Hz\n",
      "\n",
      "FIR filter parameters\n",
      "---------------------\n",
      "Designing a one-pass, zero-phase, non-causal bandpass filter:\n",
      "- Windowed time-domain design (firwin) method\n",
      "- Hamming window with 0.0194 passband ripple and 53 dB stopband attenuation\n",
      "- Lower passband edge: 1.00\n",
      "- Lower transition bandwidth: 1.00 Hz (-6 dB cutoff frequency: 0.50 Hz)\n",
      "- Upper passband edge: 45.00 Hz\n",
      "- Upper transition bandwidth: 11.25 Hz (-6 dB cutoff frequency: 50.62 Hz)\n",
      "- Filter length: 825 samples (3.300 s)\n",
      "\n"
     ]
    },
    {
     "name": "stderr",
     "output_type": "stream",
     "text": [
      "[Parallel(n_jobs=1)]: Using backend SequentialBackend with 1 concurrent workers.\n",
      "[Parallel(n_jobs=1)]: Done   1 out of   1 | elapsed:    0.0s remaining:    0.0s\n",
      "[Parallel(n_jobs=1)]: Done   2 out of   2 | elapsed:    0.0s remaining:    0.0s\n",
      "[Parallel(n_jobs=1)]: Done   3 out of   3 | elapsed:    0.0s remaining:    0.0s\n",
      "[Parallel(n_jobs=1)]: Done   4 out of   4 | elapsed:    0.0s remaining:    0.0s\n"
     ]
    },
    {
     "name": "stdout",
     "output_type": "stream",
     "text": [
      "Not setting metadata\n",
      "37 matching events found\n",
      "No baseline correction applied\n",
      "0 projection items activated\n",
      "Using data from preloaded Raw for 37 events and 6250 original time points ...\n",
      "0 bad epochs dropped\n",
      "Extracting EDF parameters from C:\\Users\\DELL\\Final year\\dataverse_files\\h06.edf...\n",
      "EDF file detected\n",
      "Setting channel info structure...\n",
      "Creating raw.info structure...\n",
      "Reading 0 ... 232499  =      0.000 ...   929.996 secs...\n"
     ]
    },
    {
     "name": "stderr",
     "output_type": "stream",
     "text": [
      "[Parallel(n_jobs=1)]: Done  19 out of  19 | elapsed:    0.3s finished\n"
     ]
    },
    {
     "name": "stdout",
     "output_type": "stream",
     "text": [
      "EEG channel type selected for re-referencing\n",
      "Applying average reference.\n",
      "Applying a custom ('EEG',) reference.\n",
      "Filtering raw data in 1 contiguous segment\n",
      "Setting up band-pass filter from 1 - 45 Hz\n",
      "\n",
      "FIR filter parameters\n",
      "---------------------\n",
      "Designing a one-pass, zero-phase, non-causal bandpass filter:\n",
      "- Windowed time-domain design (firwin) method\n",
      "- Hamming window with 0.0194 passband ripple and 53 dB stopband attenuation\n",
      "- Lower passband edge: 1.00\n",
      "- Lower transition bandwidth: 1.00 Hz (-6 dB cutoff frequency: 0.50 Hz)\n",
      "- Upper passband edge: 45.00 Hz\n",
      "- Upper transition bandwidth: 11.25 Hz (-6 dB cutoff frequency: 50.62 Hz)\n",
      "- Filter length: 825 samples (3.300 s)\n",
      "\n"
     ]
    },
    {
     "name": "stderr",
     "output_type": "stream",
     "text": [
      "[Parallel(n_jobs=1)]: Using backend SequentialBackend with 1 concurrent workers.\n",
      "[Parallel(n_jobs=1)]: Done   1 out of   1 | elapsed:    0.0s remaining:    0.0s\n",
      "[Parallel(n_jobs=1)]: Done   2 out of   2 | elapsed:    0.0s remaining:    0.0s\n",
      "[Parallel(n_jobs=1)]: Done   3 out of   3 | elapsed:    0.0s remaining:    0.0s\n",
      "[Parallel(n_jobs=1)]: Done   4 out of   4 | elapsed:    0.0s remaining:    0.0s\n"
     ]
    },
    {
     "name": "stdout",
     "output_type": "stream",
     "text": [
      "Not setting metadata\n",
      "37 matching events found\n",
      "No baseline correction applied\n",
      "0 projection items activated\n",
      "Using data from preloaded Raw for 37 events and 6250 original time points ...\n",
      "0 bad epochs dropped\n",
      "Extracting EDF parameters from C:\\Users\\DELL\\Final year\\dataverse_files\\h07.edf...\n",
      "EDF file detected\n",
      "Setting channel info structure...\n",
      "Creating raw.info structure...\n",
      "Reading 0 ... 227499  =      0.000 ...   909.996 secs...\n"
     ]
    },
    {
     "name": "stderr",
     "output_type": "stream",
     "text": [
      "[Parallel(n_jobs=1)]: Done  19 out of  19 | elapsed:    0.3s finished\n"
     ]
    },
    {
     "name": "stdout",
     "output_type": "stream",
     "text": [
      "EEG channel type selected for re-referencing\n",
      "Applying average reference.\n",
      "Applying a custom ('EEG',) reference.\n",
      "Filtering raw data in 1 contiguous segment\n",
      "Setting up band-pass filter from 1 - 45 Hz\n",
      "\n",
      "FIR filter parameters\n",
      "---------------------\n",
      "Designing a one-pass, zero-phase, non-causal bandpass filter:\n",
      "- Windowed time-domain design (firwin) method\n",
      "- Hamming window with 0.0194 passband ripple and 53 dB stopband attenuation\n",
      "- Lower passband edge: 1.00\n",
      "- Lower transition bandwidth: 1.00 Hz (-6 dB cutoff frequency: 0.50 Hz)\n",
      "- Upper passband edge: 45.00 Hz\n",
      "- Upper transition bandwidth: 11.25 Hz (-6 dB cutoff frequency: 50.62 Hz)\n",
      "- Filter length: 825 samples (3.300 s)\n",
      "\n"
     ]
    },
    {
     "name": "stderr",
     "output_type": "stream",
     "text": [
      "[Parallel(n_jobs=1)]: Using backend SequentialBackend with 1 concurrent workers.\n",
      "[Parallel(n_jobs=1)]: Done   1 out of   1 | elapsed:    0.0s remaining:    0.0s\n",
      "[Parallel(n_jobs=1)]: Done   2 out of   2 | elapsed:    0.0s remaining:    0.0s\n",
      "[Parallel(n_jobs=1)]: Done   3 out of   3 | elapsed:    0.0s remaining:    0.0s\n",
      "[Parallel(n_jobs=1)]: Done   4 out of   4 | elapsed:    0.0s remaining:    0.0s\n"
     ]
    },
    {
     "name": "stdout",
     "output_type": "stream",
     "text": [
      "Not setting metadata\n",
      "36 matching events found\n",
      "No baseline correction applied\n",
      "0 projection items activated\n",
      "Using data from preloaded Raw for 36 events and 6250 original time points ...\n",
      "0 bad epochs dropped\n",
      "Extracting EDF parameters from C:\\Users\\DELL\\Final year\\dataverse_files\\h08.edf...\n",
      "EDF file detected\n",
      "Setting channel info structure...\n",
      "Creating raw.info structure...\n",
      "Reading 0 ... 227499  =      0.000 ...   909.996 secs...\n"
     ]
    },
    {
     "name": "stderr",
     "output_type": "stream",
     "text": [
      "[Parallel(n_jobs=1)]: Done  19 out of  19 | elapsed:    0.2s finished\n"
     ]
    },
    {
     "name": "stdout",
     "output_type": "stream",
     "text": [
      "EEG channel type selected for re-referencing\n",
      "Applying average reference.\n",
      "Applying a custom ('EEG',) reference.\n",
      "Filtering raw data in 1 contiguous segment\n",
      "Setting up band-pass filter from 1 - 45 Hz\n",
      "\n",
      "FIR filter parameters\n",
      "---------------------\n",
      "Designing a one-pass, zero-phase, non-causal bandpass filter:\n",
      "- Windowed time-domain design (firwin) method\n",
      "- Hamming window with 0.0194 passband ripple and 53 dB stopband attenuation\n",
      "- Lower passband edge: 1.00\n",
      "- Lower transition bandwidth: 1.00 Hz (-6 dB cutoff frequency: 0.50 Hz)\n",
      "- Upper passband edge: 45.00 Hz\n",
      "- Upper transition bandwidth: 11.25 Hz (-6 dB cutoff frequency: 50.62 Hz)\n",
      "- Filter length: 825 samples (3.300 s)\n",
      "\n"
     ]
    },
    {
     "name": "stderr",
     "output_type": "stream",
     "text": [
      "[Parallel(n_jobs=1)]: Using backend SequentialBackend with 1 concurrent workers.\n",
      "[Parallel(n_jobs=1)]: Done   1 out of   1 | elapsed:    0.0s remaining:    0.0s\n",
      "[Parallel(n_jobs=1)]: Done   2 out of   2 | elapsed:    0.0s remaining:    0.0s\n",
      "[Parallel(n_jobs=1)]: Done   3 out of   3 | elapsed:    0.0s remaining:    0.0s\n",
      "[Parallel(n_jobs=1)]: Done   4 out of   4 | elapsed:    0.0s remaining:    0.0s\n"
     ]
    },
    {
     "name": "stdout",
     "output_type": "stream",
     "text": [
      "Not setting metadata\n",
      "36 matching events found\n",
      "No baseline correction applied\n",
      "0 projection items activated\n",
      "Using data from preloaded Raw for 36 events and 6250 original time points ...\n",
      "0 bad epochs dropped\n",
      "Extracting EDF parameters from C:\\Users\\DELL\\Final year\\dataverse_files\\h09.edf...\n",
      "EDF file detected\n",
      "Setting channel info structure...\n",
      "Creating raw.info structure...\n",
      "Reading 0 ... 226249  =      0.000 ...   904.996 secs...\n"
     ]
    },
    {
     "name": "stderr",
     "output_type": "stream",
     "text": [
      "[Parallel(n_jobs=1)]: Done  19 out of  19 | elapsed:    0.3s finished\n"
     ]
    },
    {
     "name": "stdout",
     "output_type": "stream",
     "text": [
      "EEG channel type selected for re-referencing\n",
      "Applying average reference.\n",
      "Applying a custom ('EEG',) reference.\n",
      "Filtering raw data in 1 contiguous segment\n",
      "Setting up band-pass filter from 1 - 45 Hz\n",
      "\n",
      "FIR filter parameters\n",
      "---------------------\n",
      "Designing a one-pass, zero-phase, non-causal bandpass filter:\n",
      "- Windowed time-domain design (firwin) method\n",
      "- Hamming window with 0.0194 passband ripple and 53 dB stopband attenuation\n",
      "- Lower passband edge: 1.00\n",
      "- Lower transition bandwidth: 1.00 Hz (-6 dB cutoff frequency: 0.50 Hz)\n",
      "- Upper passband edge: 45.00 Hz\n",
      "- Upper transition bandwidth: 11.25 Hz (-6 dB cutoff frequency: 50.62 Hz)\n",
      "- Filter length: 825 samples (3.300 s)\n",
      "\n"
     ]
    },
    {
     "name": "stderr",
     "output_type": "stream",
     "text": [
      "[Parallel(n_jobs=1)]: Using backend SequentialBackend with 1 concurrent workers.\n",
      "[Parallel(n_jobs=1)]: Done   1 out of   1 | elapsed:    0.0s remaining:    0.0s\n",
      "[Parallel(n_jobs=1)]: Done   2 out of   2 | elapsed:    0.0s remaining:    0.0s\n",
      "[Parallel(n_jobs=1)]: Done   3 out of   3 | elapsed:    0.0s remaining:    0.0s\n",
      "[Parallel(n_jobs=1)]: Done   4 out of   4 | elapsed:    0.0s remaining:    0.0s\n"
     ]
    },
    {
     "name": "stdout",
     "output_type": "stream",
     "text": [
      "Not setting metadata\n",
      "36 matching events found\n",
      "No baseline correction applied\n",
      "0 projection items activated\n",
      "Using data from preloaded Raw for 36 events and 6250 original time points ...\n",
      "0 bad epochs dropped\n",
      "Extracting EDF parameters from C:\\Users\\DELL\\Final year\\dataverse_files\\h10.edf...\n",
      "EDF file detected\n",
      "Setting channel info structure...\n",
      "Creating raw.info structure...\n",
      "Reading 0 ... 278749  =      0.000 ...  1114.996 secs...\n"
     ]
    },
    {
     "name": "stderr",
     "output_type": "stream",
     "text": [
      "[Parallel(n_jobs=1)]: Done  19 out of  19 | elapsed:    0.2s finished\n"
     ]
    },
    {
     "name": "stdout",
     "output_type": "stream",
     "text": [
      "EEG channel type selected for re-referencing\n",
      "Applying average reference.\n",
      "Applying a custom ('EEG',) reference.\n",
      "Filtering raw data in 1 contiguous segment\n",
      "Setting up band-pass filter from 1 - 45 Hz\n",
      "\n",
      "FIR filter parameters\n",
      "---------------------\n",
      "Designing a one-pass, zero-phase, non-causal bandpass filter:\n",
      "- Windowed time-domain design (firwin) method\n",
      "- Hamming window with 0.0194 passband ripple and 53 dB stopband attenuation\n",
      "- Lower passband edge: 1.00\n",
      "- Lower transition bandwidth: 1.00 Hz (-6 dB cutoff frequency: 0.50 Hz)\n",
      "- Upper passband edge: 45.00 Hz\n",
      "- Upper transition bandwidth: 11.25 Hz (-6 dB cutoff frequency: 50.62 Hz)\n",
      "- Filter length: 825 samples (3.300 s)\n",
      "\n"
     ]
    },
    {
     "name": "stderr",
     "output_type": "stream",
     "text": [
      "[Parallel(n_jobs=1)]: Using backend SequentialBackend with 1 concurrent workers.\n",
      "[Parallel(n_jobs=1)]: Done   1 out of   1 | elapsed:    0.0s remaining:    0.0s\n",
      "[Parallel(n_jobs=1)]: Done   2 out of   2 | elapsed:    0.0s remaining:    0.0s\n",
      "[Parallel(n_jobs=1)]: Done   3 out of   3 | elapsed:    0.0s remaining:    0.0s\n",
      "[Parallel(n_jobs=1)]: Done   4 out of   4 | elapsed:    0.0s remaining:    0.0s\n"
     ]
    },
    {
     "name": "stdout",
     "output_type": "stream",
     "text": [
      "Not setting metadata\n",
      "44 matching events found\n",
      "No baseline correction applied\n",
      "0 projection items activated\n",
      "Using data from preloaded Raw for 44 events and 6250 original time points ...\n",
      "0 bad epochs dropped\n",
      "Extracting EDF parameters from C:\\Users\\DELL\\Final year\\dataverse_files\\h11.edf...\n",
      "EDF file detected\n",
      "Setting channel info structure...\n",
      "Creating raw.info structure...\n",
      "Reading 0 ... 228749  =      0.000 ...   914.996 secs...\n"
     ]
    },
    {
     "name": "stderr",
     "output_type": "stream",
     "text": [
      "[Parallel(n_jobs=1)]: Done  19 out of  19 | elapsed:    0.4s finished\n"
     ]
    },
    {
     "name": "stdout",
     "output_type": "stream",
     "text": [
      "EEG channel type selected for re-referencing\n",
      "Applying average reference.\n",
      "Applying a custom ('EEG',) reference.\n",
      "Filtering raw data in 1 contiguous segment\n",
      "Setting up band-pass filter from 1 - 45 Hz\n",
      "\n",
      "FIR filter parameters\n",
      "---------------------\n",
      "Designing a one-pass, zero-phase, non-causal bandpass filter:\n",
      "- Windowed time-domain design (firwin) method\n",
      "- Hamming window with 0.0194 passband ripple and 53 dB stopband attenuation\n",
      "- Lower passband edge: 1.00\n",
      "- Lower transition bandwidth: 1.00 Hz (-6 dB cutoff frequency: 0.50 Hz)\n",
      "- Upper passband edge: 45.00 Hz\n",
      "- Upper transition bandwidth: 11.25 Hz (-6 dB cutoff frequency: 50.62 Hz)\n",
      "- Filter length: 825 samples (3.300 s)\n",
      "\n"
     ]
    },
    {
     "name": "stderr",
     "output_type": "stream",
     "text": [
      "[Parallel(n_jobs=1)]: Using backend SequentialBackend with 1 concurrent workers.\n",
      "[Parallel(n_jobs=1)]: Done   1 out of   1 | elapsed:    0.0s remaining:    0.0s\n",
      "[Parallel(n_jobs=1)]: Done   2 out of   2 | elapsed:    0.0s remaining:    0.0s\n",
      "[Parallel(n_jobs=1)]: Done   3 out of   3 | elapsed:    0.0s remaining:    0.0s\n",
      "[Parallel(n_jobs=1)]: Done   4 out of   4 | elapsed:    0.0s remaining:    0.0s\n"
     ]
    },
    {
     "name": "stdout",
     "output_type": "stream",
     "text": [
      "Not setting metadata\n",
      "36 matching events found\n",
      "No baseline correction applied\n",
      "0 projection items activated\n",
      "Using data from preloaded Raw for 36 events and 6250 original time points ...\n",
      "0 bad epochs dropped\n",
      "Extracting EDF parameters from C:\\Users\\DELL\\Final year\\dataverse_files\\h12.edf...\n",
      "EDF file detected\n",
      "Setting channel info structure...\n",
      "Creating raw.info structure...\n",
      "Reading 0 ... 224999  =      0.000 ...   899.996 secs...\n"
     ]
    },
    {
     "name": "stderr",
     "output_type": "stream",
     "text": [
      "[Parallel(n_jobs=1)]: Done  19 out of  19 | elapsed:    0.3s finished\n"
     ]
    },
    {
     "name": "stdout",
     "output_type": "stream",
     "text": [
      "EEG channel type selected for re-referencing\n",
      "Applying average reference.\n",
      "Applying a custom ('EEG',) reference.\n",
      "Filtering raw data in 1 contiguous segment\n",
      "Setting up band-pass filter from 1 - 45 Hz\n",
      "\n",
      "FIR filter parameters\n",
      "---------------------\n",
      "Designing a one-pass, zero-phase, non-causal bandpass filter:\n",
      "- Windowed time-domain design (firwin) method\n",
      "- Hamming window with 0.0194 passband ripple and 53 dB stopband attenuation\n",
      "- Lower passband edge: 1.00\n",
      "- Lower transition bandwidth: 1.00 Hz (-6 dB cutoff frequency: 0.50 Hz)\n",
      "- Upper passband edge: 45.00 Hz\n",
      "- Upper transition bandwidth: 11.25 Hz (-6 dB cutoff frequency: 50.62 Hz)\n",
      "- Filter length: 825 samples (3.300 s)\n",
      "\n"
     ]
    },
    {
     "name": "stderr",
     "output_type": "stream",
     "text": [
      "[Parallel(n_jobs=1)]: Using backend SequentialBackend with 1 concurrent workers.\n",
      "[Parallel(n_jobs=1)]: Done   1 out of   1 | elapsed:    0.0s remaining:    0.0s\n",
      "[Parallel(n_jobs=1)]: Done   2 out of   2 | elapsed:    0.0s remaining:    0.0s\n",
      "[Parallel(n_jobs=1)]: Done   3 out of   3 | elapsed:    0.0s remaining:    0.0s\n",
      "[Parallel(n_jobs=1)]: Done   4 out of   4 | elapsed:    0.0s remaining:    0.0s\n"
     ]
    },
    {
     "name": "stdout",
     "output_type": "stream",
     "text": [
      "Not setting metadata\n",
      "36 matching events found\n",
      "No baseline correction applied\n",
      "0 projection items activated\n",
      "Using data from preloaded Raw for 36 events and 6250 original time points ...\n",
      "0 bad epochs dropped\n",
      "Extracting EDF parameters from C:\\Users\\DELL\\Final year\\dataverse_files\\h13.edf...\n",
      "EDF file detected\n",
      "Setting channel info structure...\n",
      "Creating raw.info structure...\n",
      "Reading 0 ... 241249  =      0.000 ...   964.996 secs...\n"
     ]
    },
    {
     "name": "stderr",
     "output_type": "stream",
     "text": [
      "[Parallel(n_jobs=1)]: Done  19 out of  19 | elapsed:    0.3s finished\n"
     ]
    },
    {
     "name": "stdout",
     "output_type": "stream",
     "text": [
      "EEG channel type selected for re-referencing\n",
      "Applying average reference.\n",
      "Applying a custom ('EEG',) reference.\n",
      "Filtering raw data in 1 contiguous segment\n",
      "Setting up band-pass filter from 1 - 45 Hz\n",
      "\n",
      "FIR filter parameters\n",
      "---------------------\n",
      "Designing a one-pass, zero-phase, non-causal bandpass filter:\n",
      "- Windowed time-domain design (firwin) method\n",
      "- Hamming window with 0.0194 passband ripple and 53 dB stopband attenuation\n",
      "- Lower passband edge: 1.00\n",
      "- Lower transition bandwidth: 1.00 Hz (-6 dB cutoff frequency: 0.50 Hz)\n",
      "- Upper passband edge: 45.00 Hz\n",
      "- Upper transition bandwidth: 11.25 Hz (-6 dB cutoff frequency: 50.62 Hz)\n",
      "- Filter length: 825 samples (3.300 s)\n",
      "\n"
     ]
    },
    {
     "name": "stderr",
     "output_type": "stream",
     "text": [
      "[Parallel(n_jobs=1)]: Using backend SequentialBackend with 1 concurrent workers.\n",
      "[Parallel(n_jobs=1)]: Done   1 out of   1 | elapsed:    0.0s remaining:    0.0s\n",
      "[Parallel(n_jobs=1)]: Done   2 out of   2 | elapsed:    0.0s remaining:    0.0s\n",
      "[Parallel(n_jobs=1)]: Done   3 out of   3 | elapsed:    0.0s remaining:    0.0s\n",
      "[Parallel(n_jobs=1)]: Done   4 out of   4 | elapsed:    0.0s remaining:    0.0s\n"
     ]
    },
    {
     "name": "stdout",
     "output_type": "stream",
     "text": [
      "Not setting metadata\n",
      "38 matching events found\n",
      "No baseline correction applied\n",
      "0 projection items activated\n",
      "Using data from preloaded Raw for 38 events and 6250 original time points ...\n",
      "0 bad epochs dropped\n",
      "Extracting EDF parameters from C:\\Users\\DELL\\Final year\\dataverse_files\\h14.edf...\n",
      "EDF file detected\n",
      "Setting channel info structure...\n",
      "Creating raw.info structure...\n",
      "Reading 0 ... 216249  =      0.000 ...   864.996 secs...\n"
     ]
    },
    {
     "name": "stderr",
     "output_type": "stream",
     "text": [
      "[Parallel(n_jobs=1)]: Done  19 out of  19 | elapsed:    0.3s finished\n"
     ]
    },
    {
     "name": "stdout",
     "output_type": "stream",
     "text": [
      "EEG channel type selected for re-referencing\n",
      "Applying average reference.\n",
      "Applying a custom ('EEG',) reference.\n",
      "Filtering raw data in 1 contiguous segment\n",
      "Setting up band-pass filter from 1 - 45 Hz\n",
      "\n",
      "FIR filter parameters\n",
      "---------------------\n",
      "Designing a one-pass, zero-phase, non-causal bandpass filter:\n",
      "- Windowed time-domain design (firwin) method\n",
      "- Hamming window with 0.0194 passband ripple and 53 dB stopband attenuation\n",
      "- Lower passband edge: 1.00\n",
      "- Lower transition bandwidth: 1.00 Hz (-6 dB cutoff frequency: 0.50 Hz)\n",
      "- Upper passband edge: 45.00 Hz\n",
      "- Upper transition bandwidth: 11.25 Hz (-6 dB cutoff frequency: 50.62 Hz)\n",
      "- Filter length: 825 samples (3.300 s)\n",
      "\n"
     ]
    },
    {
     "name": "stderr",
     "output_type": "stream",
     "text": [
      "[Parallel(n_jobs=1)]: Using backend SequentialBackend with 1 concurrent workers.\n",
      "[Parallel(n_jobs=1)]: Done   1 out of   1 | elapsed:    0.0s remaining:    0.0s\n",
      "[Parallel(n_jobs=1)]: Done   2 out of   2 | elapsed:    0.0s remaining:    0.0s\n",
      "[Parallel(n_jobs=1)]: Done   3 out of   3 | elapsed:    0.0s remaining:    0.0s\n",
      "[Parallel(n_jobs=1)]: Done   4 out of   4 | elapsed:    0.0s remaining:    0.0s\n"
     ]
    },
    {
     "name": "stdout",
     "output_type": "stream",
     "text": [
      "Not setting metadata\n",
      "34 matching events found\n",
      "No baseline correction applied\n",
      "0 projection items activated\n",
      "Using data from preloaded Raw for 34 events and 6250 original time points ...\n",
      "0 bad epochs dropped\n",
      "Extracting EDF parameters from C:\\Users\\DELL\\Final year\\dataverse_files\\s01.edf...\n",
      "EDF file detected\n",
      "Setting channel info structure...\n",
      "Creating raw.info structure...\n",
      "Reading 0 ... 211249  =      0.000 ...   844.996 secs...\n"
     ]
    },
    {
     "name": "stderr",
     "output_type": "stream",
     "text": [
      "[Parallel(n_jobs=1)]: Done  19 out of  19 | elapsed:    0.2s finished\n"
     ]
    },
    {
     "name": "stdout",
     "output_type": "stream",
     "text": [
      "EEG channel type selected for re-referencing\n",
      "Applying average reference.\n",
      "Applying a custom ('EEG',) reference.\n",
      "Filtering raw data in 1 contiguous segment\n",
      "Setting up band-pass filter from 1 - 45 Hz\n",
      "\n",
      "FIR filter parameters\n",
      "---------------------\n",
      "Designing a one-pass, zero-phase, non-causal bandpass filter:\n",
      "- Windowed time-domain design (firwin) method\n",
      "- Hamming window with 0.0194 passband ripple and 53 dB stopband attenuation\n",
      "- Lower passband edge: 1.00\n",
      "- Lower transition bandwidth: 1.00 Hz (-6 dB cutoff frequency: 0.50 Hz)\n",
      "- Upper passband edge: 45.00 Hz\n",
      "- Upper transition bandwidth: 11.25 Hz (-6 dB cutoff frequency: 50.62 Hz)\n",
      "- Filter length: 825 samples (3.300 s)\n",
      "\n"
     ]
    },
    {
     "name": "stderr",
     "output_type": "stream",
     "text": [
      "[Parallel(n_jobs=1)]: Using backend SequentialBackend with 1 concurrent workers.\n",
      "[Parallel(n_jobs=1)]: Done   1 out of   1 | elapsed:    0.0s remaining:    0.0s\n",
      "[Parallel(n_jobs=1)]: Done   2 out of   2 | elapsed:    0.0s remaining:    0.0s\n",
      "[Parallel(n_jobs=1)]: Done   3 out of   3 | elapsed:    0.0s remaining:    0.0s\n",
      "[Parallel(n_jobs=1)]: Done   4 out of   4 | elapsed:    0.0s remaining:    0.0s\n"
     ]
    },
    {
     "name": "stdout",
     "output_type": "stream",
     "text": [
      "Not setting metadata\n",
      "33 matching events found\n",
      "No baseline correction applied\n",
      "0 projection items activated\n",
      "Using data from preloaded Raw for 33 events and 6250 original time points ...\n",
      "0 bad epochs dropped\n",
      "Extracting EDF parameters from C:\\Users\\DELL\\Final year\\dataverse_files\\s02.edf...\n",
      "EDF file detected\n",
      "Setting channel info structure...\n",
      "Creating raw.info structure...\n",
      "Reading 0 ... 286249  =      0.000 ...  1144.996 secs...\n"
     ]
    },
    {
     "name": "stderr",
     "output_type": "stream",
     "text": [
      "[Parallel(n_jobs=1)]: Done  19 out of  19 | elapsed:    0.2s finished\n"
     ]
    },
    {
     "name": "stdout",
     "output_type": "stream",
     "text": [
      "EEG channel type selected for re-referencing\n",
      "Applying average reference.\n",
      "Applying a custom ('EEG',) reference.\n",
      "Filtering raw data in 1 contiguous segment\n",
      "Setting up band-pass filter from 1 - 45 Hz\n",
      "\n",
      "FIR filter parameters\n",
      "---------------------\n",
      "Designing a one-pass, zero-phase, non-causal bandpass filter:\n",
      "- Windowed time-domain design (firwin) method\n",
      "- Hamming window with 0.0194 passband ripple and 53 dB stopband attenuation\n",
      "- Lower passband edge: 1.00\n",
      "- Lower transition bandwidth: 1.00 Hz (-6 dB cutoff frequency: 0.50 Hz)\n",
      "- Upper passband edge: 45.00 Hz\n",
      "- Upper transition bandwidth: 11.25 Hz (-6 dB cutoff frequency: 50.62 Hz)\n",
      "- Filter length: 825 samples (3.300 s)\n",
      "\n"
     ]
    },
    {
     "name": "stderr",
     "output_type": "stream",
     "text": [
      "[Parallel(n_jobs=1)]: Using backend SequentialBackend with 1 concurrent workers.\n",
      "[Parallel(n_jobs=1)]: Done   1 out of   1 | elapsed:    0.0s remaining:    0.0s\n",
      "[Parallel(n_jobs=1)]: Done   2 out of   2 | elapsed:    0.0s remaining:    0.0s\n",
      "[Parallel(n_jobs=1)]: Done   3 out of   3 | elapsed:    0.0s remaining:    0.0s\n",
      "[Parallel(n_jobs=1)]: Done   4 out of   4 | elapsed:    0.0s remaining:    0.0s\n"
     ]
    },
    {
     "name": "stdout",
     "output_type": "stream",
     "text": [
      "Not setting metadata\n",
      "45 matching events found\n",
      "No baseline correction applied\n",
      "0 projection items activated\n",
      "Using data from preloaded Raw for 45 events and 6250 original time points ...\n",
      "0 bad epochs dropped\n",
      "Extracting EDF parameters from C:\\Users\\DELL\\Final year\\dataverse_files\\s03.edf...\n",
      "EDF file detected\n",
      "Setting channel info structure...\n",
      "Creating raw.info structure...\n",
      "Reading 0 ... 240999  =      0.000 ...   963.996 secs...\n"
     ]
    },
    {
     "name": "stderr",
     "output_type": "stream",
     "text": [
      "[Parallel(n_jobs=1)]: Done  19 out of  19 | elapsed:    0.4s finished\n"
     ]
    },
    {
     "name": "stdout",
     "output_type": "stream",
     "text": [
      "EEG channel type selected for re-referencing\n",
      "Applying average reference.\n",
      "Applying a custom ('EEG',) reference.\n",
      "Filtering raw data in 1 contiguous segment\n",
      "Setting up band-pass filter from 1 - 45 Hz\n",
      "\n",
      "FIR filter parameters\n",
      "---------------------\n",
      "Designing a one-pass, zero-phase, non-causal bandpass filter:\n",
      "- Windowed time-domain design (firwin) method\n",
      "- Hamming window with 0.0194 passband ripple and 53 dB stopband attenuation\n",
      "- Lower passband edge: 1.00\n",
      "- Lower transition bandwidth: 1.00 Hz (-6 dB cutoff frequency: 0.50 Hz)\n",
      "- Upper passband edge: 45.00 Hz\n",
      "- Upper transition bandwidth: 11.25 Hz (-6 dB cutoff frequency: 50.62 Hz)\n",
      "- Filter length: 825 samples (3.300 s)\n",
      "\n"
     ]
    },
    {
     "name": "stderr",
     "output_type": "stream",
     "text": [
      "[Parallel(n_jobs=1)]: Using backend SequentialBackend with 1 concurrent workers.\n",
      "[Parallel(n_jobs=1)]: Done   1 out of   1 | elapsed:    0.0s remaining:    0.0s\n",
      "[Parallel(n_jobs=1)]: Done   2 out of   2 | elapsed:    0.0s remaining:    0.0s\n",
      "[Parallel(n_jobs=1)]: Done   3 out of   3 | elapsed:    0.0s remaining:    0.0s\n",
      "[Parallel(n_jobs=1)]: Done   4 out of   4 | elapsed:    0.0s remaining:    0.0s\n"
     ]
    },
    {
     "name": "stdout",
     "output_type": "stream",
     "text": [
      "Not setting metadata\n",
      "38 matching events found\n",
      "No baseline correction applied\n",
      "0 projection items activated\n",
      "Using data from preloaded Raw for 38 events and 6250 original time points ...\n",
      "0 bad epochs dropped\n",
      "Extracting EDF parameters from C:\\Users\\DELL\\Final year\\dataverse_files\\s04.edf...\n",
      "EDF file detected\n",
      "Setting channel info structure...\n",
      "Creating raw.info structure...\n",
      "Reading 0 ... 301249  =      0.000 ...  1204.996 secs...\n"
     ]
    },
    {
     "name": "stderr",
     "output_type": "stream",
     "text": [
      "[Parallel(n_jobs=1)]: Done  19 out of  19 | elapsed:    0.3s finished\n"
     ]
    },
    {
     "name": "stdout",
     "output_type": "stream",
     "text": [
      "EEG channel type selected for re-referencing\n",
      "Applying average reference.\n",
      "Applying a custom ('EEG',) reference.\n",
      "Filtering raw data in 1 contiguous segment\n",
      "Setting up band-pass filter from 1 - 45 Hz\n",
      "\n",
      "FIR filter parameters\n",
      "---------------------\n",
      "Designing a one-pass, zero-phase, non-causal bandpass filter:\n",
      "- Windowed time-domain design (firwin) method\n",
      "- Hamming window with 0.0194 passband ripple and 53 dB stopband attenuation\n",
      "- Lower passband edge: 1.00\n",
      "- Lower transition bandwidth: 1.00 Hz (-6 dB cutoff frequency: 0.50 Hz)\n",
      "- Upper passband edge: 45.00 Hz\n",
      "- Upper transition bandwidth: 11.25 Hz (-6 dB cutoff frequency: 50.62 Hz)\n",
      "- Filter length: 825 samples (3.300 s)\n",
      "\n"
     ]
    },
    {
     "name": "stderr",
     "output_type": "stream",
     "text": [
      "[Parallel(n_jobs=1)]: Using backend SequentialBackend with 1 concurrent workers.\n",
      "[Parallel(n_jobs=1)]: Done   1 out of   1 | elapsed:    0.0s remaining:    0.0s\n",
      "[Parallel(n_jobs=1)]: Done   2 out of   2 | elapsed:    0.0s remaining:    0.0s\n",
      "[Parallel(n_jobs=1)]: Done   3 out of   3 | elapsed:    0.0s remaining:    0.0s\n",
      "[Parallel(n_jobs=1)]: Done   4 out of   4 | elapsed:    0.0s remaining:    0.0s\n"
     ]
    },
    {
     "name": "stdout",
     "output_type": "stream",
     "text": [
      "Not setting metadata\n",
      "48 matching events found\n",
      "No baseline correction applied\n",
      "0 projection items activated\n",
      "Using data from preloaded Raw for 48 events and 6250 original time points ...\n",
      "0 bad epochs dropped\n",
      "Extracting EDF parameters from C:\\Users\\DELL\\Final year\\dataverse_files\\s05.edf...\n",
      "EDF file detected\n",
      "Setting channel info structure...\n",
      "Creating raw.info structure...\n",
      "Reading 0 ... 222499  =      0.000 ...   889.996 secs...\n"
     ]
    },
    {
     "name": "stderr",
     "output_type": "stream",
     "text": [
      "[Parallel(n_jobs=1)]: Done  19 out of  19 | elapsed:    0.4s finished\n"
     ]
    },
    {
     "name": "stdout",
     "output_type": "stream",
     "text": [
      "EEG channel type selected for re-referencing\n",
      "Applying average reference.\n",
      "Applying a custom ('EEG',) reference.\n",
      "Filtering raw data in 1 contiguous segment\n",
      "Setting up band-pass filter from 1 - 45 Hz\n",
      "\n",
      "FIR filter parameters\n",
      "---------------------\n",
      "Designing a one-pass, zero-phase, non-causal bandpass filter:\n",
      "- Windowed time-domain design (firwin) method\n",
      "- Hamming window with 0.0194 passband ripple and 53 dB stopband attenuation\n",
      "- Lower passband edge: 1.00\n",
      "- Lower transition bandwidth: 1.00 Hz (-6 dB cutoff frequency: 0.50 Hz)\n",
      "- Upper passband edge: 45.00 Hz\n",
      "- Upper transition bandwidth: 11.25 Hz (-6 dB cutoff frequency: 50.62 Hz)\n",
      "- Filter length: 825 samples (3.300 s)\n",
      "\n"
     ]
    },
    {
     "name": "stderr",
     "output_type": "stream",
     "text": [
      "[Parallel(n_jobs=1)]: Using backend SequentialBackend with 1 concurrent workers.\n",
      "[Parallel(n_jobs=1)]: Done   1 out of   1 | elapsed:    0.0s remaining:    0.0s\n",
      "[Parallel(n_jobs=1)]: Done   2 out of   2 | elapsed:    0.0s remaining:    0.0s\n",
      "[Parallel(n_jobs=1)]: Done   3 out of   3 | elapsed:    0.0s remaining:    0.0s\n",
      "[Parallel(n_jobs=1)]: Done   4 out of   4 | elapsed:    0.0s remaining:    0.0s\n"
     ]
    },
    {
     "name": "stdout",
     "output_type": "stream",
     "text": [
      "Not setting metadata\n",
      "35 matching events found\n",
      "No baseline correction applied\n",
      "0 projection items activated\n",
      "Using data from preloaded Raw for 35 events and 6250 original time points ...\n",
      "0 bad epochs dropped\n",
      "Extracting EDF parameters from C:\\Users\\DELL\\Final year\\dataverse_files\\s06.edf...\n",
      "EDF file detected\n",
      "Setting channel info structure...\n",
      "Creating raw.info structure...\n",
      "Reading 0 ... 184999  =      0.000 ...   739.996 secs...\n"
     ]
    },
    {
     "name": "stderr",
     "output_type": "stream",
     "text": [
      "[Parallel(n_jobs=1)]: Done  19 out of  19 | elapsed:    0.3s finished\n"
     ]
    },
    {
     "name": "stdout",
     "output_type": "stream",
     "text": [
      "EEG channel type selected for re-referencing\n",
      "Applying average reference.\n",
      "Applying a custom ('EEG',) reference.\n",
      "Filtering raw data in 1 contiguous segment\n",
      "Setting up band-pass filter from 1 - 45 Hz\n",
      "\n",
      "FIR filter parameters\n",
      "---------------------\n",
      "Designing a one-pass, zero-phase, non-causal bandpass filter:\n",
      "- Windowed time-domain design (firwin) method\n",
      "- Hamming window with 0.0194 passband ripple and 53 dB stopband attenuation\n",
      "- Lower passband edge: 1.00\n",
      "- Lower transition bandwidth: 1.00 Hz (-6 dB cutoff frequency: 0.50 Hz)\n",
      "- Upper passband edge: 45.00 Hz\n",
      "- Upper transition bandwidth: 11.25 Hz (-6 dB cutoff frequency: 50.62 Hz)\n",
      "- Filter length: 825 samples (3.300 s)\n",
      "\n"
     ]
    },
    {
     "name": "stderr",
     "output_type": "stream",
     "text": [
      "[Parallel(n_jobs=1)]: Using backend SequentialBackend with 1 concurrent workers.\n",
      "[Parallel(n_jobs=1)]: Done   1 out of   1 | elapsed:    0.0s remaining:    0.0s\n",
      "[Parallel(n_jobs=1)]: Done   2 out of   2 | elapsed:    0.0s remaining:    0.0s\n",
      "[Parallel(n_jobs=1)]: Done   3 out of   3 | elapsed:    0.0s remaining:    0.0s\n",
      "[Parallel(n_jobs=1)]: Done   4 out of   4 | elapsed:    0.0s remaining:    0.0s\n"
     ]
    },
    {
     "name": "stdout",
     "output_type": "stream",
     "text": [
      "Not setting metadata\n",
      "29 matching events found\n",
      "No baseline correction applied\n",
      "0 projection items activated\n",
      "Using data from preloaded Raw for 29 events and 6250 original time points ...\n",
      "0 bad epochs dropped\n",
      "Extracting EDF parameters from C:\\Users\\DELL\\Final year\\dataverse_files\\s07.edf...\n",
      "EDF file detected\n",
      "Setting channel info structure...\n",
      "Creating raw.info structure...\n",
      "Reading 0 ... 336499  =      0.000 ...  1345.996 secs...\n"
     ]
    },
    {
     "name": "stderr",
     "output_type": "stream",
     "text": [
      "[Parallel(n_jobs=1)]: Done  19 out of  19 | elapsed:    0.3s finished\n"
     ]
    },
    {
     "name": "stdout",
     "output_type": "stream",
     "text": [
      "EEG channel type selected for re-referencing\n",
      "Applying average reference.\n",
      "Applying a custom ('EEG',) reference.\n",
      "Filtering raw data in 1 contiguous segment\n",
      "Setting up band-pass filter from 1 - 45 Hz\n",
      "\n",
      "FIR filter parameters\n",
      "---------------------\n",
      "Designing a one-pass, zero-phase, non-causal bandpass filter:\n",
      "- Windowed time-domain design (firwin) method\n",
      "- Hamming window with 0.0194 passband ripple and 53 dB stopband attenuation\n",
      "- Lower passband edge: 1.00\n",
      "- Lower transition bandwidth: 1.00 Hz (-6 dB cutoff frequency: 0.50 Hz)\n",
      "- Upper passband edge: 45.00 Hz\n",
      "- Upper transition bandwidth: 11.25 Hz (-6 dB cutoff frequency: 50.62 Hz)\n",
      "- Filter length: 825 samples (3.300 s)\n",
      "\n"
     ]
    },
    {
     "name": "stderr",
     "output_type": "stream",
     "text": [
      "[Parallel(n_jobs=1)]: Using backend SequentialBackend with 1 concurrent workers.\n",
      "[Parallel(n_jobs=1)]: Done   1 out of   1 | elapsed:    0.0s remaining:    0.0s\n",
      "[Parallel(n_jobs=1)]: Done   2 out of   2 | elapsed:    0.0s remaining:    0.0s\n",
      "[Parallel(n_jobs=1)]: Done   3 out of   3 | elapsed:    0.0s remaining:    0.0s\n",
      "[Parallel(n_jobs=1)]: Done   4 out of   4 | elapsed:    0.0s remaining:    0.0s\n"
     ]
    },
    {
     "name": "stdout",
     "output_type": "stream",
     "text": [
      "Not setting metadata\n",
      "53 matching events found\n",
      "No baseline correction applied\n",
      "0 projection items activated\n",
      "Using data from preloaded Raw for 53 events and 6250 original time points ...\n",
      "0 bad epochs dropped\n",
      "Extracting EDF parameters from C:\\Users\\DELL\\Final year\\dataverse_files\\s08.edf...\n",
      "EDF file detected\n",
      "Setting channel info structure...\n"
     ]
    },
    {
     "name": "stderr",
     "output_type": "stream",
     "text": [
      "[Parallel(n_jobs=1)]: Done  19 out of  19 | elapsed:    0.5s finished\n"
     ]
    },
    {
     "name": "stdout",
     "output_type": "stream",
     "text": [
      "Creating raw.info structure...\n",
      "Reading 0 ... 227749  =      0.000 ...   910.996 secs...\n",
      "EEG channel type selected for re-referencing\n",
      "Applying average reference.\n",
      "Applying a custom ('EEG',) reference.\n",
      "Filtering raw data in 1 contiguous segment\n",
      "Setting up band-pass filter from 1 - 45 Hz\n",
      "\n",
      "FIR filter parameters\n",
      "---------------------\n",
      "Designing a one-pass, zero-phase, non-causal bandpass filter:\n",
      "- Windowed time-domain design (firwin) method\n",
      "- Hamming window with 0.0194 passband ripple and 53 dB stopband attenuation\n",
      "- Lower passband edge: 1.00\n",
      "- Lower transition bandwidth: 1.00 Hz (-6 dB cutoff frequency: 0.50 Hz)\n",
      "- Upper passband edge: 45.00 Hz\n",
      "- Upper transition bandwidth: 11.25 Hz (-6 dB cutoff frequency: 50.62 Hz)\n",
      "- Filter length: 825 samples (3.300 s)\n",
      "\n"
     ]
    },
    {
     "name": "stderr",
     "output_type": "stream",
     "text": [
      "[Parallel(n_jobs=1)]: Using backend SequentialBackend with 1 concurrent workers.\n",
      "[Parallel(n_jobs=1)]: Done   1 out of   1 | elapsed:    0.0s remaining:    0.0s\n",
      "[Parallel(n_jobs=1)]: Done   2 out of   2 | elapsed:    0.0s remaining:    0.0s\n",
      "[Parallel(n_jobs=1)]: Done   3 out of   3 | elapsed:    0.0s remaining:    0.0s\n",
      "[Parallel(n_jobs=1)]: Done   4 out of   4 | elapsed:    0.0s remaining:    0.0s\n"
     ]
    },
    {
     "name": "stdout",
     "output_type": "stream",
     "text": [
      "Not setting metadata\n",
      "36 matching events found\n",
      "No baseline correction applied\n",
      "0 projection items activated\n",
      "Using data from preloaded Raw for 36 events and 6250 original time points ...\n",
      "0 bad epochs dropped\n",
      "Extracting EDF parameters from C:\\Users\\DELL\\Final year\\dataverse_files\\s09.edf...\n",
      "EDF file detected\n",
      "Setting channel info structure...\n",
      "Creating raw.info structure...\n",
      "Reading 0 ... 296249  =      0.000 ...  1184.996 secs...\n"
     ]
    },
    {
     "name": "stderr",
     "output_type": "stream",
     "text": [
      "[Parallel(n_jobs=1)]: Done  19 out of  19 | elapsed:    0.4s finished\n"
     ]
    },
    {
     "name": "stdout",
     "output_type": "stream",
     "text": [
      "EEG channel type selected for re-referencing\n",
      "Applying average reference.\n",
      "Applying a custom ('EEG',) reference.\n",
      "Filtering raw data in 1 contiguous segment\n",
      "Setting up band-pass filter from 1 - 45 Hz\n",
      "\n",
      "FIR filter parameters\n",
      "---------------------\n",
      "Designing a one-pass, zero-phase, non-causal bandpass filter:\n",
      "- Windowed time-domain design (firwin) method\n",
      "- Hamming window with 0.0194 passband ripple and 53 dB stopband attenuation\n",
      "- Lower passband edge: 1.00\n",
      "- Lower transition bandwidth: 1.00 Hz (-6 dB cutoff frequency: 0.50 Hz)\n",
      "- Upper passband edge: 45.00 Hz\n",
      "- Upper transition bandwidth: 11.25 Hz (-6 dB cutoff frequency: 50.62 Hz)\n",
      "- Filter length: 825 samples (3.300 s)\n",
      "\n"
     ]
    },
    {
     "name": "stderr",
     "output_type": "stream",
     "text": [
      "[Parallel(n_jobs=1)]: Using backend SequentialBackend with 1 concurrent workers.\n",
      "[Parallel(n_jobs=1)]: Done   1 out of   1 | elapsed:    0.0s remaining:    0.0s\n",
      "[Parallel(n_jobs=1)]: Done   2 out of   2 | elapsed:    0.0s remaining:    0.0s\n",
      "[Parallel(n_jobs=1)]: Done   3 out of   3 | elapsed:    0.0s remaining:    0.0s\n",
      "[Parallel(n_jobs=1)]: Done   4 out of   4 | elapsed:    0.0s remaining:    0.0s\n"
     ]
    },
    {
     "name": "stdout",
     "output_type": "stream",
     "text": [
      "Not setting metadata\n",
      "47 matching events found\n",
      "No baseline correction applied\n",
      "0 projection items activated\n",
      "Using data from preloaded Raw for 47 events and 6250 original time points ...\n",
      "0 bad epochs dropped\n",
      "Extracting EDF parameters from C:\\Users\\DELL\\Final year\\dataverse_files\\s10.edf...\n",
      "EDF file detected\n",
      "Setting channel info structure...\n",
      "Creating raw.info structure...\n",
      "Reading 0 ... 212499  =      0.000 ...   849.996 secs...\n"
     ]
    },
    {
     "name": "stderr",
     "output_type": "stream",
     "text": [
      "[Parallel(n_jobs=1)]: Done  19 out of  19 | elapsed:    0.5s finished\n"
     ]
    },
    {
     "name": "stdout",
     "output_type": "stream",
     "text": [
      "EEG channel type selected for re-referencing\n",
      "Applying average reference.\n",
      "Applying a custom ('EEG',) reference.\n",
      "Filtering raw data in 1 contiguous segment\n",
      "Setting up band-pass filter from 1 - 45 Hz\n",
      "\n",
      "FIR filter parameters\n",
      "---------------------\n",
      "Designing a one-pass, zero-phase, non-causal bandpass filter:\n",
      "- Windowed time-domain design (firwin) method\n",
      "- Hamming window with 0.0194 passband ripple and 53 dB stopband attenuation\n",
      "- Lower passband edge: 1.00\n",
      "- Lower transition bandwidth: 1.00 Hz (-6 dB cutoff frequency: 0.50 Hz)\n",
      "- Upper passband edge: 45.00 Hz\n",
      "- Upper transition bandwidth: 11.25 Hz (-6 dB cutoff frequency: 50.62 Hz)\n",
      "- Filter length: 825 samples (3.300 s)\n",
      "\n"
     ]
    },
    {
     "name": "stderr",
     "output_type": "stream",
     "text": [
      "[Parallel(n_jobs=1)]: Using backend SequentialBackend with 1 concurrent workers.\n",
      "[Parallel(n_jobs=1)]: Done   1 out of   1 | elapsed:    0.0s remaining:    0.0s\n",
      "[Parallel(n_jobs=1)]: Done   2 out of   2 | elapsed:    0.0s remaining:    0.0s\n",
      "[Parallel(n_jobs=1)]: Done   3 out of   3 | elapsed:    0.0s remaining:    0.0s\n",
      "[Parallel(n_jobs=1)]: Done   4 out of   4 | elapsed:    0.0s remaining:    0.0s\n"
     ]
    },
    {
     "name": "stdout",
     "output_type": "stream",
     "text": [
      "Not setting metadata\n",
      "34 matching events found\n",
      "No baseline correction applied\n",
      "0 projection items activated\n",
      "Using data from preloaded Raw for 34 events and 6250 original time points ...\n",
      "0 bad epochs dropped\n",
      "Extracting EDF parameters from C:\\Users\\DELL\\Final year\\dataverse_files\\s11.edf...\n",
      "EDF file detected\n",
      "Setting channel info structure...\n",
      "Creating raw.info structure...\n",
      "Reading 0 ... 339999  =      0.000 ...  1359.996 secs...\n"
     ]
    },
    {
     "name": "stderr",
     "output_type": "stream",
     "text": [
      "[Parallel(n_jobs=1)]: Done  19 out of  19 | elapsed:    0.3s finished\n"
     ]
    },
    {
     "name": "stdout",
     "output_type": "stream",
     "text": [
      "EEG channel type selected for re-referencing\n",
      "Applying average reference.\n",
      "Applying a custom ('EEG',) reference.\n",
      "Filtering raw data in 1 contiguous segment\n",
      "Setting up band-pass filter from 1 - 45 Hz\n",
      "\n",
      "FIR filter parameters\n",
      "---------------------\n",
      "Designing a one-pass, zero-phase, non-causal bandpass filter:\n",
      "- Windowed time-domain design (firwin) method\n",
      "- Hamming window with 0.0194 passband ripple and 53 dB stopband attenuation\n",
      "- Lower passband edge: 1.00\n",
      "- Lower transition bandwidth: 1.00 Hz (-6 dB cutoff frequency: 0.50 Hz)\n",
      "- Upper passband edge: 45.00 Hz\n",
      "- Upper transition bandwidth: 11.25 Hz (-6 dB cutoff frequency: 50.62 Hz)\n",
      "- Filter length: 825 samples (3.300 s)\n",
      "\n"
     ]
    },
    {
     "name": "stderr",
     "output_type": "stream",
     "text": [
      "[Parallel(n_jobs=1)]: Using backend SequentialBackend with 1 concurrent workers.\n",
      "[Parallel(n_jobs=1)]: Done   1 out of   1 | elapsed:    0.0s remaining:    0.0s\n",
      "[Parallel(n_jobs=1)]: Done   2 out of   2 | elapsed:    0.0s remaining:    0.0s\n",
      "[Parallel(n_jobs=1)]: Done   3 out of   3 | elapsed:    0.0s remaining:    0.0s\n",
      "[Parallel(n_jobs=1)]: Done   4 out of   4 | elapsed:    0.1s remaining:    0.0s\n"
     ]
    },
    {
     "name": "stdout",
     "output_type": "stream",
     "text": [
      "Not setting metadata\n",
      "54 matching events found\n",
      "No baseline correction applied\n",
      "0 projection items activated\n",
      "Using data from preloaded Raw for 54 events and 6250 original time points ...\n",
      "0 bad epochs dropped\n",
      "Extracting EDF parameters from C:\\Users\\DELL\\Final year\\dataverse_files\\s12.edf...\n",
      "EDF file detected\n",
      "Setting channel info structure...\n",
      "Creating raw.info structure...\n",
      "Reading 0 ... 271749  =      0.000 ...  1086.996 secs...\n"
     ]
    },
    {
     "name": "stderr",
     "output_type": "stream",
     "text": [
      "[Parallel(n_jobs=1)]: Done  19 out of  19 | elapsed:    0.6s finished\n"
     ]
    },
    {
     "name": "stdout",
     "output_type": "stream",
     "text": [
      "EEG channel type selected for re-referencing\n",
      "Applying average reference.\n",
      "Applying a custom ('EEG',) reference.\n",
      "Filtering raw data in 1 contiguous segment\n",
      "Setting up band-pass filter from 1 - 45 Hz\n",
      "\n",
      "FIR filter parameters\n",
      "---------------------\n",
      "Designing a one-pass, zero-phase, non-causal bandpass filter:\n",
      "- Windowed time-domain design (firwin) method\n",
      "- Hamming window with 0.0194 passband ripple and 53 dB stopband attenuation\n",
      "- Lower passband edge: 1.00\n",
      "- Lower transition bandwidth: 1.00 Hz (-6 dB cutoff frequency: 0.50 Hz)\n",
      "- Upper passband edge: 45.00 Hz\n",
      "- Upper transition bandwidth: 11.25 Hz (-6 dB cutoff frequency: 50.62 Hz)\n",
      "- Filter length: 825 samples (3.300 s)\n",
      "\n"
     ]
    },
    {
     "name": "stderr",
     "output_type": "stream",
     "text": [
      "[Parallel(n_jobs=1)]: Using backend SequentialBackend with 1 concurrent workers.\n",
      "[Parallel(n_jobs=1)]: Done   1 out of   1 | elapsed:    0.0s remaining:    0.0s\n",
      "[Parallel(n_jobs=1)]: Done   2 out of   2 | elapsed:    0.0s remaining:    0.0s\n",
      "[Parallel(n_jobs=1)]: Done   3 out of   3 | elapsed:    0.0s remaining:    0.0s\n",
      "[Parallel(n_jobs=1)]: Done   4 out of   4 | elapsed:    0.0s remaining:    0.0s\n"
     ]
    },
    {
     "name": "stdout",
     "output_type": "stream",
     "text": [
      "Not setting metadata\n",
      "43 matching events found\n",
      "No baseline correction applied\n",
      "0 projection items activated\n",
      "Using data from preloaded Raw for 43 events and 6250 original time points ...\n",
      "0 bad epochs dropped\n",
      "Extracting EDF parameters from C:\\Users\\DELL\\Final year\\dataverse_files\\s13.edf...\n",
      "EDF file detected\n",
      "Setting channel info structure...\n",
      "Creating raw.info structure...\n",
      "Reading 0 ... 283749  =      0.000 ...  1134.996 secs...\n"
     ]
    },
    {
     "name": "stderr",
     "output_type": "stream",
     "text": [
      "[Parallel(n_jobs=1)]: Done  19 out of  19 | elapsed:    0.4s finished\n"
     ]
    },
    {
     "name": "stdout",
     "output_type": "stream",
     "text": [
      "EEG channel type selected for re-referencing\n",
      "Applying average reference.\n",
      "Applying a custom ('EEG',) reference.\n",
      "Filtering raw data in 1 contiguous segment\n",
      "Setting up band-pass filter from 1 - 45 Hz\n",
      "\n",
      "FIR filter parameters\n",
      "---------------------\n",
      "Designing a one-pass, zero-phase, non-causal bandpass filter:\n",
      "- Windowed time-domain design (firwin) method\n",
      "- Hamming window with 0.0194 passband ripple and 53 dB stopband attenuation\n",
      "- Lower passband edge: 1.00\n",
      "- Lower transition bandwidth: 1.00 Hz (-6 dB cutoff frequency: 0.50 Hz)\n",
      "- Upper passband edge: 45.00 Hz\n",
      "- Upper transition bandwidth: 11.25 Hz (-6 dB cutoff frequency: 50.62 Hz)\n",
      "- Filter length: 825 samples (3.300 s)\n",
      "\n"
     ]
    },
    {
     "name": "stderr",
     "output_type": "stream",
     "text": [
      "[Parallel(n_jobs=1)]: Using backend SequentialBackend with 1 concurrent workers.\n",
      "[Parallel(n_jobs=1)]: Done   1 out of   1 | elapsed:    0.0s remaining:    0.0s\n",
      "[Parallel(n_jobs=1)]: Done   2 out of   2 | elapsed:    0.0s remaining:    0.0s\n",
      "[Parallel(n_jobs=1)]: Done   3 out of   3 | elapsed:    0.0s remaining:    0.0s\n",
      "[Parallel(n_jobs=1)]: Done   4 out of   4 | elapsed:    0.0s remaining:    0.0s\n"
     ]
    },
    {
     "name": "stdout",
     "output_type": "stream",
     "text": [
      "Not setting metadata\n",
      "45 matching events found\n",
      "No baseline correction applied\n",
      "0 projection items activated\n",
      "Using data from preloaded Raw for 45 events and 6250 original time points ...\n",
      "0 bad epochs dropped\n",
      "Extracting EDF parameters from C:\\Users\\DELL\\Final year\\dataverse_files\\s14.edf...\n",
      "EDF file detected\n",
      "Setting channel info structure...\n",
      "Creating raw.info structure...\n",
      "Reading 0 ... 542499  =      0.000 ...  2169.996 secs...\n"
     ]
    },
    {
     "name": "stderr",
     "output_type": "stream",
     "text": [
      "[Parallel(n_jobs=1)]: Done  19 out of  19 | elapsed:    0.5s finished\n"
     ]
    },
    {
     "name": "stdout",
     "output_type": "stream",
     "text": [
      "EEG channel type selected for re-referencing\n",
      "Applying average reference.\n",
      "Applying a custom ('EEG',) reference.\n",
      "Filtering raw data in 1 contiguous segment\n",
      "Setting up band-pass filter from 1 - 45 Hz\n",
      "\n",
      "FIR filter parameters\n",
      "---------------------\n",
      "Designing a one-pass, zero-phase, non-causal bandpass filter:\n",
      "- Windowed time-domain design (firwin) method\n",
      "- Hamming window with 0.0194 passband ripple and 53 dB stopband attenuation\n",
      "- Lower passband edge: 1.00\n",
      "- Lower transition bandwidth: 1.00 Hz (-6 dB cutoff frequency: 0.50 Hz)\n",
      "- Upper passband edge: 45.00 Hz\n",
      "- Upper transition bandwidth: 11.25 Hz (-6 dB cutoff frequency: 50.62 Hz)\n",
      "- Filter length: 825 samples (3.300 s)\n",
      "\n"
     ]
    },
    {
     "name": "stderr",
     "output_type": "stream",
     "text": [
      "[Parallel(n_jobs=1)]: Using backend SequentialBackend with 1 concurrent workers.\n",
      "[Parallel(n_jobs=1)]: Done   1 out of   1 | elapsed:    0.0s remaining:    0.0s\n",
      "[Parallel(n_jobs=1)]: Done   2 out of   2 | elapsed:    0.0s remaining:    0.0s\n",
      "[Parallel(n_jobs=1)]: Done   3 out of   3 | elapsed:    0.0s remaining:    0.0s\n",
      "[Parallel(n_jobs=1)]: Done   4 out of   4 | elapsed:    0.1s remaining:    0.0s\n"
     ]
    },
    {
     "name": "stdout",
     "output_type": "stream",
     "text": [
      "Not setting metadata\n",
      "86 matching events found\n",
      "No baseline correction applied\n",
      "0 projection items activated\n",
      "Using data from preloaded Raw for 86 events and 6250 original time points ...\n",
      "0 bad epochs dropped\n"
     ]
    },
    {
     "name": "stderr",
     "output_type": "stream",
     "text": [
      "[Parallel(n_jobs=1)]: Done  19 out of  19 | elapsed:    0.8s finished\n"
     ]
    }
   ],
   "source": [
    "control_epochs_array=[read_data(subject) for subject in healthy_file_path]\n",
    "patients_epochs_array=[read_data(subject) for subject in patient_file_path]\n"
   ]
  },
  {
   "cell_type": "code",
   "execution_count": 20,
   "id": "86dda033",
   "metadata": {},
   "outputs": [
    {
     "name": "stdout",
     "output_type": "stream",
     "text": [
      "14 14\n"
     ]
    }
   ],
   "source": [
    "control_epochs_labels=[len(i)*[0] for i in control_epochs_array]\n",
    "patients_epochs_labels=[len(i)*[1] for i in patients_epochs_array]\n",
    "print(len(control_epochs_labels),len(patients_epochs_labels))\n"
   ]
  },
  {
   "cell_type": "code",
   "execution_count": 21,
   "id": "425fec0f",
   "metadata": {},
   "outputs": [
    {
     "name": "stdout",
     "output_type": "stream",
     "text": [
      "28 28\n"
     ]
    }
   ],
   "source": [
    "data_list=control_epochs_array+patients_epochs_array\n",
    "label_list=control_epochs_labels+patients_epochs_labels\n",
    "print(len(data_list),len(label_list))\n"
   ]
  },
  {
   "cell_type": "code",
   "execution_count": 22,
   "id": "2c4932c3",
   "metadata": {},
   "outputs": [],
   "source": [
    "groups_list=[[i]*len(j) for i, j in enumerate(data_list)]\n"
   ]
  },
  {
   "cell_type": "code",
   "execution_count": 23,
   "id": "b42bc80a",
   "metadata": {},
   "outputs": [
    {
     "name": "stdout",
     "output_type": "stream",
     "text": [
      "(1142, 6250, 19) (1142,) (1142,)\n"
     ]
    }
   ],
   "source": [
    "data_array=np.vstack(data_list)\n",
    "label_array=np.hstack(label_list)\n",
    "group_array=np.hstack(groups_list)\n",
    "data_array=np.moveaxis(data_array,1,2)\n",
    "\n",
    "print(data_array.shape,label_array.shape,group_array.shape)"
   ]
  },
  {
   "cell_type": "code",
   "execution_count": 24,
   "id": "c75f5960",
   "metadata": {},
   "outputs": [],
   "source": [
    "# from sklearn.model_selection import GroupKFold\n",
    "# from sklearn.preprocessing import StandardScaler\n",
    "# import numpy as np\n",
    "# from tensorflow.keras.layers import Conv1D, BatchNormalization, LeakyReLU, MaxPool1D, GlobalAveragePooling1D, Dense, Dropout, AveragePooling1D\n",
    "# from tensorflow.keras.models import Sequential\n",
    "# from tensorflow.keras.backend import clear_session\n",
    "\n",
    "# class KFoldCNNModel:\n",
    "#     def __init__(self, num_splits, epochs_per_fold):\n",
    "#         self.num_splits = num_splits\n",
    "#         self.epochs_per_fold = epochs_per_fold\n",
    "#         self.model = self.cnnmodel()\n",
    "#         self.accuracy = []\n",
    "\n",
    "#     def cnnmodel(self):\n",
    "#         clear_session()\n",
    "#         model = Sequential()\n",
    "#         model.add(Conv1D(filters=5, kernel_size=2, strides=1, input_shape=(6250, 19)))\n",
    "#         model.add(BatchNormalization())\n",
    "#         model.add(LeakyReLU())\n",
    "#         model.add(MaxPool1D(pool_size=2, strides=1))\n",
    "#         model.add(Conv1D(filters=5, kernel_size=2, strides=1))\n",
    "#         model.add(LeakyReLU())\n",
    "#         model.add(MaxPool1D(pool_size=2, strides=1))\n",
    "#         model.add(Dropout(0.3))\n",
    "#         model.add(Conv1D(filters=5, kernel_size=2, strides=1))\n",
    "#         model.add(LeakyReLU())\n",
    "#         model.add(AveragePooling1D(pool_size=2, strides=1))\n",
    "#         model.add(Dropout(0.2))\n",
    "#         model.add(GlobalAveragePooling1D())\n",
    "#         model.add(Dense(1, activation='sigmoid'))\n",
    "#         model.compile('adam', loss='binary_crossentropy', metrics=['accuracy'])\n",
    "#         return model\n",
    "\n",
    "#     def train_and_evaluate(self, train_index, val_index, data_array, label_array):\n",
    "#         train_features, train_labels = data_array[train_index], label_array[train_index]\n",
    "#         val_features, val_labels = data_array[val_index], label_array[val_index]\n",
    "#         scaler = StandardScaler()\n",
    "#         train_features = scaler.fit_transform(train_features.reshape(-1, train_features.shape[-1])).reshape(train_features.shape)\n",
    "#         val_features = scaler.transform(val_features.reshape(-1, val_features.shape[-1])).reshape(val_features.shape)\n",
    "#         self.model.fit(train_features, train_labels, epochs=self.epochs_per_fold, batch_size=96, validation_data=(val_features, val_labels))\n",
    "#         self.accuracy.append(self.model.evaluate(val_features, val_labels)[1])\n",
    "\n",
    "#     def run_cross_validation(self, data_array, label_array, groups):\n",
    "#         gkf = GroupKFold(n_splits=self.num_splits)\n",
    "#         for train_index, val_index in gkf.split(data_array, label_array, groups=groups):\n",
    "#             self.train_and_evaluate(train_index, val_index, data_array, label_array)\n",
    "\n",
    "# if __name__ == \"__main__\":\n",
    "    \n",
    "#     data_array=np.vstack(data_list)\n",
    "#     label_array=np.hstack(label_list)\n",
    "#     group_array=np.hstack(groups_list)\n",
    "#     data_array=np.moveaxis(data_array,1,2)\n",
    "\n",
    "#     kfold_cnn_model = KFoldCNNModel(num_splits=0.6, epochs_per_fold=45)\n",
    "#     kfold_cnn_model.run_cross_validation(data_array, label_array, group_array)\n",
    "#     accuracy = kfold_cnn_model.accuracy\n"
   ]
  },
  {
   "cell_type": "code",
   "execution_count": 65,
   "id": "24481c40",
   "metadata": {},
   "outputs": [
    {
     "name": "stdout",
     "output_type": "stream",
     "text": [
      "Model: \"sequential\"\n",
      "_________________________________________________________________\n",
      " Layer (type)                Output Shape              Param #   \n",
      "=================================================================\n",
      " conv1d (Conv1D)             (None, 6249, 5)           195       \n",
      "                                                                 \n",
      " batch_normalization (Batch  (None, 6249, 5)           20        \n",
      " Normalization)                                                  \n",
      "                                                                 \n",
      " leaky_re_lu (LeakyReLU)     (None, 6249, 5)           0         \n",
      "                                                                 \n",
      " max_pooling1d (MaxPooling1  (None, 6248, 5)           0         \n",
      " D)                                                              \n",
      "                                                                 \n",
      " conv1d_1 (Conv1D)           (None, 6247, 5)           55        \n",
      "                                                                 \n",
      " leaky_re_lu_1 (LeakyReLU)   (None, 6247, 5)           0         \n",
      "                                                                 \n",
      " max_pooling1d_1 (MaxPoolin  (None, 6246, 5)           0         \n",
      " g1D)                                                            \n",
      "                                                                 \n",
      " dropout (Dropout)           (None, 6246, 5)           0         \n",
      "                                                                 \n",
      " conv1d_2 (Conv1D)           (None, 6245, 5)           55        \n",
      "                                                                 \n",
      " leaky_re_lu_2 (LeakyReLU)   (None, 6245, 5)           0         \n",
      "                                                                 \n",
      " conv1d_3 (Conv1D)           (None, 6243, 5)           80        \n",
      "                                                                 \n",
      " conv1d_4 (Conv1D)           (None, 6241, 5)           80        \n",
      "                                                                 \n",
      " leaky_re_lu_3 (LeakyReLU)   (None, 6241, 5)           0         \n",
      "                                                                 \n",
      " average_pooling1d (Average  (None, 6240, 5)           0         \n",
      " Pooling1D)                                                      \n",
      "                                                                 \n",
      " dropout_1 (Dropout)         (None, 6240, 5)           0         \n",
      "                                                                 \n",
      " global_average_pooling1d (  (None, 5)                 0         \n",
      " GlobalAveragePooling1D)                                         \n",
      "                                                                 \n",
      " dense (Dense)               (None, 1)                 6         \n",
      "                                                                 \n",
      "=================================================================\n",
      "Total params: 491 (1.92 KB)\n",
      "Trainable params: 481 (1.88 KB)\n",
      "Non-trainable params: 10 (40.00 Byte)\n",
      "_________________________________________________________________\n"
     ]
    }
   ],
   "source": [
    "from tensorflow.keras.layers import Conv1D,BatchNormalization,LeakyReLU,MaxPool1D,\\\n",
    "GlobalAveragePooling1D,Dense,Dropout,AveragePooling1D\n",
    "from tensorflow.keras.models import Sequential\n",
    "from tensorflow.keras.backend import clear_session\n",
    "\n",
    "\n",
    "\n",
    "def cnnmodel():\n",
    "    clear_session()\n",
    "\n",
    "    model=Sequential()\n",
    "    model.add(Conv1D(filters=5,kernel_size=2,strides=1,input_shape=(6250,19)))#1\n",
    "    model.add(BatchNormalization())\n",
    "    model.add(LeakyReLU())\n",
    "    model.add(MaxPool1D(pool_size=2,strides=1))#2\n",
    "    model.add(Conv1D(filters=5,kernel_size=2,strides=1))#3\n",
    "    model.add(LeakyReLU())\n",
    "    model.add(MaxPool1D(pool_size=2,strides=1))#4\n",
    "    model.add(Dropout(0.3))\n",
    "    model.add(Conv1D(filters=5,kernel_size=2,strides=1))#5\n",
    "    model.add(LeakyReLU())\n",
    "    model.add(Conv1D(filters=5,kernel_size=3,strides=1))#7\n",
    "    model.add(Conv1D(filters=5,kernel_size=3,strides=1))#7\n",
    "    model.add(LeakyReLU())\n",
    "    model.add(AveragePooling1D(pool_size=2,strides=1))#6\n",
    "    model.add(Dropout(0.2))\n",
    "    model.add(GlobalAveragePooling1D())#10\n",
    "    model.add(Dense(1,activation='sigmoid'))#11\n",
    "    \n",
    "    model.compile('adam',loss='binary_crossentropy',metrics=['accuracy'])\n",
    "    return model\n",
    "\n",
    "model=cnnmodel()\n",
    "model.summary()"
   ]
  },
  {
   "cell_type": "code",
   "execution_count": null,
   "id": "c6588466",
   "metadata": {},
   "outputs": [],
   "source": [
    "# from sklearn.model_selection import GroupKFold,LeaveOneGroupOut\n",
    "# from sklearn.preprocessing import StandardScaler\n",
    "# gkf=GroupKFold()"
   ]
  },
  {
   "cell_type": "code",
   "execution_count": 67,
   "id": "27b64b8b",
   "metadata": {
    "scrolled": true
   },
   "outputs": [
    {
     "name": "stdout",
     "output_type": "stream",
     "text": [
      "Epoch 1/45\n",
      "6/6 [==============================] - 11s 1s/step - loss: 0.6528 - accuracy: 0.6106 - val_loss: 0.6845 - val_accuracy: 0.4870\n",
      "Epoch 2/45\n",
      "6/6 [==============================] - 4s 666ms/step - loss: 0.6499 - accuracy: 0.6106 - val_loss: 0.6882 - val_accuracy: 0.4870\n",
      "Epoch 3/45\n",
      "6/6 [==============================] - 4s 706ms/step - loss: 0.6401 - accuracy: 0.6106 - val_loss: 0.6904 - val_accuracy: 0.4870\n",
      "Epoch 4/45\n",
      "6/6 [==============================] - 4s 773ms/step - loss: 0.6334 - accuracy: 0.6106 - val_loss: 0.6934 - val_accuracy: 0.4870\n",
      "Epoch 5/45\n",
      "6/6 [==============================] - 5s 863ms/step - loss: 0.6334 - accuracy: 0.6106 - val_loss: 0.6931 - val_accuracy: 0.4870\n",
      "Epoch 6/45\n",
      "6/6 [==============================] - 4s 743ms/step - loss: 0.6323 - accuracy: 0.6106 - val_loss: 0.6916 - val_accuracy: 0.4870\n",
      "Epoch 7/45\n",
      "6/6 [==============================] - 4s 755ms/step - loss: 0.6189 - accuracy: 0.6106 - val_loss: 0.6855 - val_accuracy: 0.4870\n",
      "Epoch 8/45\n",
      "6/6 [==============================] - 4s 741ms/step - loss: 0.6140 - accuracy: 0.6106 - val_loss: 0.6818 - val_accuracy: 0.4870\n",
      "Epoch 9/45\n",
      "6/6 [==============================] - 4s 749ms/step - loss: 0.6087 - accuracy: 0.6106 - val_loss: 0.6789 - val_accuracy: 0.4870\n",
      "Epoch 10/45\n",
      "6/6 [==============================] - 5s 796ms/step - loss: 0.6046 - accuracy: 0.6106 - val_loss: 0.6755 - val_accuracy: 0.4870\n",
      "Epoch 11/45\n",
      "6/6 [==============================] - 5s 859ms/step - loss: 0.5917 - accuracy: 0.6106 - val_loss: 0.6741 - val_accuracy: 0.4870\n",
      "Epoch 12/45\n",
      "6/6 [==============================] - 5s 810ms/step - loss: 0.5794 - accuracy: 0.6301 - val_loss: 0.6699 - val_accuracy: 0.4870\n",
      "Epoch 13/45\n",
      "6/6 [==============================] - 4s 717ms/step - loss: 0.5711 - accuracy: 0.6106 - val_loss: 0.6699 - val_accuracy: 0.4887\n",
      "Epoch 14/45\n",
      "6/6 [==============================] - 5s 808ms/step - loss: 0.5578 - accuracy: 0.6354 - val_loss: 0.6656 - val_accuracy: 0.5199\n",
      "Epoch 15/45\n",
      "6/6 [==============================] - 4s 758ms/step - loss: 0.5380 - accuracy: 0.6425 - val_loss: 0.6657 - val_accuracy: 0.5511\n",
      "Epoch 16/45\n",
      "6/6 [==============================] - 4s 716ms/step - loss: 0.5278 - accuracy: 0.6796 - val_loss: 0.6684 - val_accuracy: 0.5806\n",
      "Epoch 17/45\n",
      "6/6 [==============================] - 5s 792ms/step - loss: 0.5188 - accuracy: 0.7080 - val_loss: 0.6659 - val_accuracy: 0.6430\n",
      "Epoch 18/45\n",
      "6/6 [==============================] - 4s 731ms/step - loss: 0.4908 - accuracy: 0.7752 - val_loss: 0.6651 - val_accuracy: 0.6794\n",
      "Epoch 19/45\n",
      "6/6 [==============================] - 4s 716ms/step - loss: 0.4739 - accuracy: 0.8319 - val_loss: 0.6668 - val_accuracy: 0.6950\n",
      "Epoch 20/45\n",
      "6/6 [==============================] - 4s 724ms/step - loss: 0.4514 - accuracy: 0.8407 - val_loss: 0.6776 - val_accuracy: 0.6984\n",
      "Epoch 21/45\n",
      "6/6 [==============================] - 4s 740ms/step - loss: 0.4269 - accuracy: 0.8655 - val_loss: 0.6849 - val_accuracy: 0.7054\n",
      "Epoch 22/45\n",
      "6/6 [==============================] - 4s 722ms/step - loss: 0.3967 - accuracy: 0.8850 - val_loss: 0.7101 - val_accuracy: 0.7019\n",
      "Epoch 23/45\n",
      "6/6 [==============================] - 4s 712ms/step - loss: 0.3893 - accuracy: 0.8655 - val_loss: 0.7239 - val_accuracy: 0.7019\n",
      "Epoch 24/45\n",
      "6/6 [==============================] - 4s 750ms/step - loss: 0.3675 - accuracy: 0.8478 - val_loss: 0.7559 - val_accuracy: 0.6984\n",
      "Epoch 25/45\n",
      "6/6 [==============================] - 4s 728ms/step - loss: 0.3430 - accuracy: 0.8991 - val_loss: 0.7830 - val_accuracy: 0.6984\n",
      "Epoch 26/45\n",
      "6/6 [==============================] - 4s 723ms/step - loss: 0.3024 - accuracy: 0.9080 - val_loss: 0.8591 - val_accuracy: 0.6655\n",
      "Epoch 27/45\n",
      "6/6 [==============================] - 4s 730ms/step - loss: 0.2751 - accuracy: 0.9363 - val_loss: 0.8922 - val_accuracy: 0.6690\n",
      "Epoch 28/45\n",
      "6/6 [==============================] - 4s 730ms/step - loss: 0.2865 - accuracy: 0.8991 - val_loss: 0.9344 - val_accuracy: 0.6672\n",
      "Epoch 29/45\n",
      "6/6 [==============================] - 4s 772ms/step - loss: 0.2714 - accuracy: 0.9133 - val_loss: 0.9498 - val_accuracy: 0.6759\n",
      "Epoch 30/45\n",
      "6/6 [==============================] - 4s 762ms/step - loss: 0.2320 - accuracy: 0.9398 - val_loss: 1.1215 - val_accuracy: 0.5962\n",
      "Epoch 31/45\n",
      "6/6 [==============================] - 4s 756ms/step - loss: 0.2498 - accuracy: 0.8991 - val_loss: 1.1057 - val_accuracy: 0.6205\n",
      "Epoch 32/45\n",
      "6/6 [==============================] - 4s 737ms/step - loss: 0.2372 - accuracy: 0.9150 - val_loss: 1.1563 - val_accuracy: 0.6135\n",
      "Epoch 33/45\n",
      "6/6 [==============================] - 4s 735ms/step - loss: 0.2020 - accuracy: 0.9504 - val_loss: 1.3756 - val_accuracy: 0.5615\n",
      "Epoch 34/45\n",
      "6/6 [==============================] - 4s 740ms/step - loss: 0.1876 - accuracy: 0.9540 - val_loss: 1.3664 - val_accuracy: 0.5771\n",
      "Epoch 35/45\n",
      "6/6 [==============================] - 4s 736ms/step - loss: 0.1775 - accuracy: 0.9575 - val_loss: 1.4042 - val_accuracy: 0.5754\n",
      "Epoch 36/45\n",
      "6/6 [==============================] - 4s 734ms/step - loss: 0.1663 - accuracy: 0.9575 - val_loss: 1.4901 - val_accuracy: 0.5719\n",
      "Epoch 37/45\n",
      "6/6 [==============================] - 4s 730ms/step - loss: 0.1584 - accuracy: 0.9593 - val_loss: 1.7256 - val_accuracy: 0.5511\n",
      "Epoch 38/45\n",
      "6/6 [==============================] - 4s 737ms/step - loss: 0.1417 - accuracy: 0.9717 - val_loss: 1.7607 - val_accuracy: 0.5529\n",
      "Epoch 39/45\n",
      "6/6 [==============================] - 4s 746ms/step - loss: 0.1371 - accuracy: 0.9646 - val_loss: 1.6706 - val_accuracy: 0.5719\n",
      "Epoch 40/45\n",
      "6/6 [==============================] - 4s 754ms/step - loss: 0.1315 - accuracy: 0.9681 - val_loss: 1.8012 - val_accuracy: 0.5563\n",
      "Epoch 41/45\n",
      "6/6 [==============================] - 4s 736ms/step - loss: 0.1300 - accuracy: 0.9681 - val_loss: 2.0491 - val_accuracy: 0.5477\n",
      "Epoch 42/45\n",
      "6/6 [==============================] - 4s 760ms/step - loss: 0.1073 - accuracy: 0.9752 - val_loss: 2.0946 - val_accuracy: 0.5477\n",
      "Epoch 43/45\n",
      "6/6 [==============================] - 4s 744ms/step - loss: 0.1096 - accuracy: 0.9752 - val_loss: 2.1401 - val_accuracy: 0.5494\n",
      "Epoch 44/45\n",
      "6/6 [==============================] - 4s 761ms/step - loss: 0.1037 - accuracy: 0.9681 - val_loss: 2.1367 - val_accuracy: 0.5529\n",
      "Epoch 45/45\n",
      "6/6 [==============================] - 4s 787ms/step - loss: 0.1014 - accuracy: 0.9735 - val_loss: 2.3252 - val_accuracy: 0.5477\n",
      "Epoch 1/45\n",
      "7/7 [==============================] - 5s 722ms/step - loss: 1.1371 - accuracy: 0.6828 - val_loss: 0.3777 - val_accuracy: 0.8283\n",
      "Epoch 2/45\n",
      "7/7 [==============================] - 4s 634ms/step - loss: 1.2530 - accuracy: 0.5979 - val_loss: 0.3318 - val_accuracy: 0.8496\n",
      "Epoch 3/45\n",
      "7/7 [==============================] - 4s 629ms/step - loss: 0.8611 - accuracy: 0.6828 - val_loss: 0.5206 - val_accuracy: 0.8018\n",
      "Epoch 4/45\n",
      "7/7 [==============================] - 5s 677ms/step - loss: 0.8015 - accuracy: 0.7002 - val_loss: 0.5896 - val_accuracy: 0.7876\n",
      "Epoch 5/45\n",
      "7/7 [==============================] - 5s 668ms/step - loss: 0.6607 - accuracy: 0.7210 - val_loss: 0.4651 - val_accuracy: 0.8124\n",
      "Epoch 6/45\n",
      "7/7 [==============================] - 5s 652ms/step - loss: 0.5845 - accuracy: 0.7366 - val_loss: 0.3770 - val_accuracy: 0.8478\n",
      "Epoch 7/45\n",
      "7/7 [==============================] - 4s 634ms/step - loss: 0.5475 - accuracy: 0.7574 - val_loss: 0.3532 - val_accuracy: 0.8496\n",
      "Epoch 8/45\n",
      "7/7 [==============================] - 4s 636ms/step - loss: 0.5586 - accuracy: 0.7660 - val_loss: 0.2797 - val_accuracy: 0.8850\n",
      "Epoch 9/45\n",
      "7/7 [==============================] - 4s 633ms/step - loss: 0.5403 - accuracy: 0.7470 - val_loss: 0.2833 - val_accuracy: 0.8832\n",
      "Epoch 10/45\n",
      "7/7 [==============================] - 4s 653ms/step - loss: 0.5056 - accuracy: 0.7799 - val_loss: 0.2650 - val_accuracy: 0.8920\n",
      "Epoch 11/45\n",
      "7/7 [==============================] - 4s 631ms/step - loss: 0.4943 - accuracy: 0.7626 - val_loss: 0.3180 - val_accuracy: 0.8690\n",
      "Epoch 12/45\n",
      "7/7 [==============================] - 4s 630ms/step - loss: 0.4998 - accuracy: 0.7920 - val_loss: 0.3204 - val_accuracy: 0.8619\n",
      "Epoch 13/45\n",
      "7/7 [==============================] - 4s 657ms/step - loss: 0.4739 - accuracy: 0.7955 - val_loss: 0.2587 - val_accuracy: 0.8938\n",
      "Epoch 14/45\n",
      "7/7 [==============================] - 6s 837ms/step - loss: 0.4656 - accuracy: 0.7834 - val_loss: 0.2367 - val_accuracy: 0.9628\n",
      "Epoch 15/45\n",
      "7/7 [==============================] - 5s 803ms/step - loss: 0.4546 - accuracy: 0.7747 - val_loss: 0.2413 - val_accuracy: 0.9593\n",
      "Epoch 16/45\n",
      "7/7 [==============================] - 5s 800ms/step - loss: 0.4348 - accuracy: 0.7938 - val_loss: 0.2545 - val_accuracy: 0.9628\n",
      "Epoch 17/45\n",
      "7/7 [==============================] - 5s 795ms/step - loss: 0.4238 - accuracy: 0.7816 - val_loss: 0.2657 - val_accuracy: 0.9487\n",
      "Epoch 18/45\n",
      "7/7 [==============================] - 4s 628ms/step - loss: 0.3864 - accuracy: 0.8163 - val_loss: 0.2742 - val_accuracy: 0.9398\n",
      "Epoch 19/45\n",
      "7/7 [==============================] - 4s 641ms/step - loss: 0.3738 - accuracy: 0.8406 - val_loss: 0.2844 - val_accuracy: 0.9062\n",
      "Epoch 20/45\n",
      "7/7 [==============================] - 5s 668ms/step - loss: 0.4257 - accuracy: 0.8180 - val_loss: 0.2851 - val_accuracy: 0.9080\n",
      "Epoch 21/45\n",
      "7/7 [==============================] - 4s 635ms/step - loss: 0.4032 - accuracy: 0.8250 - val_loss: 0.2769 - val_accuracy: 0.9522\n",
      "Epoch 22/45\n",
      "7/7 [==============================] - 4s 636ms/step - loss: 0.3869 - accuracy: 0.8198 - val_loss: 0.3144 - val_accuracy: 0.9381\n",
      "Epoch 23/45\n",
      "7/7 [==============================] - 4s 640ms/step - loss: 0.3822 - accuracy: 0.8215 - val_loss: 0.2959 - val_accuracy: 0.9540\n",
      "Epoch 24/45\n",
      "7/7 [==============================] - 4s 641ms/step - loss: 0.3776 - accuracy: 0.8232 - val_loss: 0.2963 - val_accuracy: 0.9593\n",
      "Epoch 25/45\n",
      "7/7 [==============================] - 4s 623ms/step - loss: 0.3526 - accuracy: 0.8440 - val_loss: 0.2985 - val_accuracy: 0.9522\n",
      "Epoch 26/45\n",
      "7/7 [==============================] - 4s 649ms/step - loss: 0.3615 - accuracy: 0.8302 - val_loss: 0.2991 - val_accuracy: 0.9522\n",
      "Epoch 27/45\n",
      "7/7 [==============================] - 4s 637ms/step - loss: 0.3498 - accuracy: 0.8614 - val_loss: 0.3353 - val_accuracy: 0.9381\n",
      "Epoch 28/45\n",
      "7/7 [==============================] - 4s 648ms/step - loss: 0.3399 - accuracy: 0.8458 - val_loss: 0.3236 - val_accuracy: 0.9451\n",
      "Epoch 29/45\n",
      "7/7 [==============================] - 4s 648ms/step - loss: 0.3150 - accuracy: 0.8821 - val_loss: 0.3146 - val_accuracy: 0.9257\n",
      "Epoch 30/45\n",
      "7/7 [==============================] - 5s 686ms/step - loss: 0.3777 - accuracy: 0.8648 - val_loss: 0.3141 - val_accuracy: 0.9257\n",
      "Epoch 31/45\n",
      "7/7 [==============================] - 4s 633ms/step - loss: 0.3285 - accuracy: 0.8873 - val_loss: 0.3275 - val_accuracy: 0.9558\n",
      "Epoch 32/45\n",
      "7/7 [==============================] - 5s 674ms/step - loss: 0.3441 - accuracy: 0.8614 - val_loss: 0.3871 - val_accuracy: 0.9080\n",
      "Epoch 33/45\n",
      "7/7 [==============================] - 5s 678ms/step - loss: 0.3701 - accuracy: 0.8440 - val_loss: 0.3561 - val_accuracy: 0.9381\n",
      "Epoch 34/45\n",
      "7/7 [==============================] - 5s 669ms/step - loss: 0.3261 - accuracy: 0.8700 - val_loss: 0.3596 - val_accuracy: 0.9381\n",
      "Epoch 35/45\n",
      "7/7 [==============================] - 4s 639ms/step - loss: 0.3118 - accuracy: 0.8839 - val_loss: 0.3448 - val_accuracy: 0.9487\n",
      "Epoch 36/45\n",
      "7/7 [==============================] - 4s 650ms/step - loss: 0.3387 - accuracy: 0.8492 - val_loss: 0.3596 - val_accuracy: 0.9363\n",
      "Epoch 37/45\n",
      "7/7 [==============================] - 5s 661ms/step - loss: 0.3254 - accuracy: 0.8735 - val_loss: 0.3891 - val_accuracy: 0.9168\n",
      "Epoch 38/45\n",
      "7/7 [==============================] - 4s 655ms/step - loss: 0.3248 - accuracy: 0.8562 - val_loss: 0.4327 - val_accuracy: 0.8779\n",
      "Epoch 39/45\n",
      "7/7 [==============================] - 4s 653ms/step - loss: 0.3655 - accuracy: 0.8146 - val_loss: 0.3955 - val_accuracy: 0.9133\n",
      "Epoch 40/45\n",
      "7/7 [==============================] - 5s 659ms/step - loss: 0.2993 - accuracy: 0.8873 - val_loss: 0.3640 - val_accuracy: 0.9274\n",
      "Epoch 41/45\n",
      "7/7 [==============================] - 4s 644ms/step - loss: 0.2823 - accuracy: 0.9012 - val_loss: 0.3436 - val_accuracy: 0.9239\n",
      "Epoch 42/45\n",
      "7/7 [==============================] - 5s 686ms/step - loss: 0.3260 - accuracy: 0.8648 - val_loss: 0.3417 - val_accuracy: 0.9168\n",
      "Epoch 43/45\n",
      "7/7 [==============================] - 5s 686ms/step - loss: 0.3053 - accuracy: 0.8787 - val_loss: 0.3531 - val_accuracy: 0.9522\n",
      "Epoch 44/45\n",
      "7/7 [==============================] - 5s 661ms/step - loss: 0.3096 - accuracy: 0.8804 - val_loss: 0.4114 - val_accuracy: 0.9080\n",
      "Epoch 45/45\n",
      "7/7 [==============================] - 5s 684ms/step - loss: 0.3298 - accuracy: 0.8579 - val_loss: 0.3924 - val_accuracy: 0.9257\n"
     ]
    }
   ],
   "source": [
    "\n",
    "from sklearn.model_selection import GroupKFold\n",
    "from sklearn.preprocessing import StandardScaler\n",
    "import numpy as np\n",
    "\n",
    "gkf = GroupKFold(n_splits=2) \n",
    "accuracy = []\n",
    "\n",
    "model = cnnmodel()\n",
    "\n",
    "for train_index, val_index in gkf.split(data_array, label_array, groups=group_array):\n",
    "    train_features, train_labels = data_array[train_index], label_array[train_index]\n",
    "    val_features, val_labels = data_array[val_index], label_array[val_index]\n",
    "\n",
    "    scaler = StandardScaler()\n",
    "    train_features = scaler.fit_transform(train_features.reshape(-1, train_features.shape[-1])).reshape(train_features.shape)\n",
    "    val_features = scaler.transform(val_features.reshape(-1, val_features.shape[-1])).reshape(val_features.shape)\n",
    "\n",
    "    history=model.fit(train_features, train_labels, epochs=45, batch_size=96, validation_data=(val_features,val_labels))\n",
    "\n",
    "    accuracy.append(history.history['accuracy'])\n",
    "\n"
   ]
  },
  {
   "cell_type": "code",
   "execution_count": 68,
   "id": "a496cd35",
   "metadata": {},
   "outputs": [
    {
     "data": {
      "image/png": "[encoded data removed]",
      "text/plain": [
       "<Figure size 1000x600 with 1 Axes>"
      ]
     },
     "metadata": {},
     "output_type": "display_data"
    }
   ],
   "source": [
    "# Plot the training accuracy for each fold\n",
    "plt.figure(figsize=(10, 6))\n",
    "for i in range(len(accuracy)):\n",
    "    plt.plot(accuracy[i], label=f'Fold {i + 1}')\n",
    "\n",
    "plt.xlabel('Epochs')\n",
    "plt.ylabel('Accuracy')\n",
    "plt.title('Training Accuracy for Each Fold')\n",
    "plt.legend()\n",
    "plt.show()"
   ]
  },
  {
   "cell_type": "code",
   "execution_count": 19,
   "id": "f2ce619a",
   "metadata": {},
   "outputs": [
    {
     "name": "stdout",
     "output_type": "stream",
     "text": [
      "8/8 [==============================] - 1s 64ms/step - loss: 0.5281 - accuracy: 0.6128\n",
      "[0.5281120538711548, 0.6127659678459167]\n"
     ]
    }
   ],
   "source": [
    "a=model.evaluate(val_features, val_labels)\n",
    "print(a)\n"
   ]
  },
  {
   "cell_type": "code",
   "execution_count": 69,
   "id": "7d17c480",
   "metadata": {},
   "outputs": [
    {
     "name": "stdout",
     "output_type": "stream",
     "text": [
      "Model: \"sequential\"\n",
      "_________________________________________________________________\n",
      " Layer (type)                Output Shape              Param #   \n",
      "=================================================================\n",
      " conv1d (Conv1D)             (None, 6249, 5)           195       \n",
      "                                                                 \n",
      " batch_normalization (Batch  (None, 6249, 5)           20        \n",
      " Normalization)                                                  \n",
      "                                                                 \n",
      " leaky_re_lu (LeakyReLU)     (None, 6249, 5)           0         \n",
      "                                                                 \n",
      " max_pooling1d (MaxPooling1  (None, 6248, 5)           0         \n",
      " D)                                                              \n",
      "                                                                 \n",
      " conv1d_1 (Conv1D)           (None, 6247, 5)           55        \n",
      "                                                                 \n",
      " leaky_re_lu_1 (LeakyReLU)   (None, 6247, 5)           0         \n",
      "                                                                 \n",
      " max_pooling1d_1 (MaxPoolin  (None, 6246, 5)           0         \n",
      " g1D)                                                            \n",
      "                                                                 \n",
      " dropout (Dropout)           (None, 6246, 5)           0         \n",
      "                                                                 \n",
      " conv1d_2 (Conv1D)           (None, 6245, 5)           55        \n",
      "                                                                 \n",
      " leaky_re_lu_2 (LeakyReLU)   (None, 6245, 5)           0         \n",
      "                                                                 \n",
      " conv1d_3 (Conv1D)           (None, 6243, 5)           80        \n",
      "                                                                 \n",
      " conv1d_4 (Conv1D)           (None, 6241, 5)           80        \n",
      "                                                                 \n",
      " leaky_re_lu_3 (LeakyReLU)   (None, 6241, 5)           0         \n",
      "                                                                 \n",
      " average_pooling1d (Average  (None, 6240, 5)           0         \n",
      " Pooling1D)                                                      \n",
      "                                                                 \n",
      " dropout_1 (Dropout)         (None, 6240, 5)           0         \n",
      "                                                                 \n",
      " global_average_pooling1d (  (None, 5)                 0         \n",
      " GlobalAveragePooling1D)                                         \n",
      "                                                                 \n",
      " dense (Dense)               (None, 1)                 6         \n",
      "                                                                 \n",
      "=================================================================\n",
      "Total params: 491 (1.92 KB)\n",
      "Trainable params: 481 (1.88 KB)\n",
      "Non-trainable params: 10 (40.00 Byte)\n",
      "_________________________________________________________________\n"
     ]
    }
   ],
   "source": [
    "# from tensorflow.keras.layers import Conv1D,BatchNormalization,LeakyReLU,MaxPool1D,\\\n",
    "# GlobalAveragePooling1D,Dense,Dropout,AveragePooling1D\n",
    "# from tensorflow.keras.models import Sequential\n",
    "# from tensorflow.keras.backend import clear_session\n",
    "# def rnnmodel():\n",
    "#     model = tf.keras.Sequential([\n",
    "#     tf.keras.layers.SimpleRNN(64, activation='relu', return_sequences=True, input_shape=(X_train.shape[1], X_train.shape[2])),\n",
    "#     tf.keras.layers.SimpleRNN(64, activation='relu', return_sequences=True),\n",
    "#     tf.keras.layers.Dense(1)  # Output layer for regression\n",
    "# ])\n",
    "\n",
    "    \n",
    "#     model.compile(optimizer='adam', loss='mean_squared_error')\n",
    "#     return model\n",
    "\n",
    "# model=rnnmodel()\n",
    "# model.summary()\n",
    "\n",
    "from tensorflow.keras.layers import Conv1D, BatchNormalization, LeakyReLU, MaxPool1D,\\\n",
    "GlobalAveragePooling1D, Dense, Dropout, AveragePooling1D\n",
    "from tensorflow.keras.models import Sequential\n",
    "from tensorflow.keras.backend import clear_session\n",
    "\n",
    "def rnnmodel():\n",
    "    model_r = tf.keras.Sequential([\n",
    "        tf.keras.layers.SimpleRNN(32, activation='relu', return_sequences=True, input_shape=((6250,19)), dropout=0.2),\n",
    "        # tf.keras.layers.SimpleRNN(64, activation='relu', return_sequences=True, dropout=0.2),\n",
    "        tf.keras.layers.Dense(1)  # Output layer for regression\n",
    "    ])\n",
    "\n",
    "    model_r.compile(optimizer='adam', loss='mean_squared_error')\n",
    "    return model\n",
    "\n",
    "model_r = rnnmodel()\n",
    "model_r.summary()"
   ]
  },
  {
   "cell_type": "code",
   "execution_count": 74,
   "id": "72b6e6ae",
   "metadata": {
    "scrolled": true
   },
   "outputs": [
    {
     "name": "stdout",
     "output_type": "stream",
     "text": [
      "Epoch 1/45\n",
      "6/6 [==============================] - 6s 1s/step - loss: 0.3010 - accuracy: 0.8867 - val_loss: 0.3342 - val_accuracy: 0.8388\n",
      "Epoch 2/45\n",
      "6/6 [==============================] - 5s 826ms/step - loss: 0.2489 - accuracy: 0.9186 - val_loss: 0.4101 - val_accuracy: 0.7938\n",
      "Epoch 3/45\n",
      "6/6 [==============================] - 5s 879ms/step - loss: 0.1643 - accuracy: 0.9699 - val_loss: 0.4271 - val_accuracy: 0.7990\n",
      "Epoch 4/45\n",
      "6/6 [==============================] - 5s 818ms/step - loss: 0.1816 - accuracy: 0.9575 - val_loss: 0.4069 - val_accuracy: 0.8059\n",
      "Epoch 5/45\n",
      "6/6 [==============================] - 4s 754ms/step - loss: 0.1778 - accuracy: 0.9593 - val_loss: 0.4153 - val_accuracy: 0.8059\n",
      "Epoch 6/45\n",
      "6/6 [==============================] - 5s 853ms/step - loss: 0.1485 - accuracy: 0.9770 - val_loss: 0.4319 - val_accuracy: 0.8007\n",
      "Epoch 7/45\n",
      "6/6 [==============================] - 5s 850ms/step - loss: 0.1342 - accuracy: 0.9858 - val_loss: 0.4693 - val_accuracy: 0.7886\n",
      "Epoch 8/45\n",
      "6/6 [==============================] - 5s 960ms/step - loss: 0.1314 - accuracy: 0.9788 - val_loss: 0.4881 - val_accuracy: 0.7834\n",
      "Epoch 9/45\n",
      "6/6 [==============================] - 6s 1s/step - loss: 0.1260 - accuracy: 0.9770 - val_loss: 0.5219 - val_accuracy: 0.7764\n",
      "Epoch 10/45\n",
      "6/6 [==============================] - 5s 879ms/step - loss: 0.1312 - accuracy: 0.9788 - val_loss: 0.5233 - val_accuracy: 0.7782\n",
      "Epoch 11/45\n",
      "6/6 [==============================] - 5s 818ms/step - loss: 0.1113 - accuracy: 0.9894 - val_loss: 0.5009 - val_accuracy: 0.7834\n",
      "Epoch 12/45\n",
      "6/6 [==============================] - 4s 782ms/step - loss: 0.1175 - accuracy: 0.9929 - val_loss: 0.5059 - val_accuracy: 0.7834\n",
      "Epoch 13/45\n",
      "6/6 [==============================] - 4s 761ms/step - loss: 0.1322 - accuracy: 0.9823 - val_loss: 0.5503 - val_accuracy: 0.7782\n",
      "Epoch 14/45\n",
      "6/6 [==============================] - 4s 771ms/step - loss: 0.1220 - accuracy: 0.9823 - val_loss: 0.5772 - val_accuracy: 0.7764\n",
      "Epoch 15/45\n",
      "6/6 [==============================] - 5s 877ms/step - loss: 0.1024 - accuracy: 0.9929 - val_loss: 0.5740 - val_accuracy: 0.7799\n",
      "Epoch 16/45\n",
      "6/6 [==============================] - 5s 805ms/step - loss: 0.1028 - accuracy: 0.9894 - val_loss: 0.5667 - val_accuracy: 0.7764\n",
      "Epoch 17/45\n",
      "6/6 [==============================] - 5s 928ms/step - loss: 0.1036 - accuracy: 0.9841 - val_loss: 0.6024 - val_accuracy: 0.7730\n",
      "Epoch 18/45\n",
      "6/6 [==============================] - 5s 895ms/step - loss: 0.1193 - accuracy: 0.9788 - val_loss: 0.6450 - val_accuracy: 0.7626\n",
      "Epoch 19/45\n",
      "6/6 [==============================] - 5s 832ms/step - loss: 0.0977 - accuracy: 0.9841 - val_loss: 0.6389 - val_accuracy: 0.7660\n",
      "Epoch 20/45\n",
      "6/6 [==============================] - 5s 808ms/step - loss: 0.0990 - accuracy: 0.9841 - val_loss: 0.6104 - val_accuracy: 0.7747\n",
      "Epoch 21/45\n",
      "6/6 [==============================] - 5s 953ms/step - loss: 0.0875 - accuracy: 0.9947 - val_loss: 0.6171 - val_accuracy: 0.7747\n",
      "Epoch 22/45\n",
      "6/6 [==============================] - 5s 832ms/step - loss: 0.1022 - accuracy: 0.9841 - val_loss: 0.6607 - val_accuracy: 0.7660\n",
      "Epoch 23/45\n",
      "6/6 [==============================] - 5s 791ms/step - loss: 0.1067 - accuracy: 0.9823 - val_loss: 0.6459 - val_accuracy: 0.7747\n",
      "Epoch 24/45\n",
      "6/6 [==============================] - 5s 790ms/step - loss: 0.0900 - accuracy: 0.9876 - val_loss: 0.5938 - val_accuracy: 0.7816\n",
      "Epoch 25/45\n",
      "6/6 [==============================] - 5s 784ms/step - loss: 0.1039 - accuracy: 0.9858 - val_loss: 0.6323 - val_accuracy: 0.7747\n",
      "Epoch 26/45\n",
      "6/6 [==============================] - 4s 775ms/step - loss: 0.0962 - accuracy: 0.9894 - val_loss: 0.6674 - val_accuracy: 0.7695\n",
      "Epoch 27/45\n",
      "6/6 [==============================] - 5s 792ms/step - loss: 0.0844 - accuracy: 0.9912 - val_loss: 0.6882 - val_accuracy: 0.7660\n",
      "Epoch 28/45\n",
      "6/6 [==============================] - 5s 787ms/step - loss: 0.0773 - accuracy: 0.9894 - val_loss: 0.7133 - val_accuracy: 0.7522\n",
      "Epoch 29/45\n",
      "6/6 [==============================] - 5s 805ms/step - loss: 0.0938 - accuracy: 0.9894 - val_loss: 0.7137 - val_accuracy: 0.7574\n",
      "Epoch 30/45\n",
      "6/6 [==============================] - 5s 913ms/step - loss: 0.0885 - accuracy: 0.9805 - val_loss: 0.6911 - val_accuracy: 0.7695\n",
      "Epoch 31/45\n",
      "6/6 [==============================] - 6s 1s/step - loss: 0.0840 - accuracy: 0.9912 - val_loss: 0.6961 - val_accuracy: 0.7678\n",
      "Epoch 32/45\n",
      "6/6 [==============================] - 5s 837ms/step - loss: 0.0796 - accuracy: 0.9858 - val_loss: 0.7378 - val_accuracy: 0.7522\n",
      "Epoch 33/45\n",
      "6/6 [==============================] - 5s 798ms/step - loss: 0.0840 - accuracy: 0.9876 - val_loss: 0.7580 - val_accuracy: 0.7452\n",
      "Epoch 34/45\n",
      "6/6 [==============================] - 5s 798ms/step - loss: 0.0774 - accuracy: 0.9929 - val_loss: 0.7840 - val_accuracy: 0.7314\n",
      "Epoch 35/45\n",
      "6/6 [==============================] - 5s 833ms/step - loss: 0.0736 - accuracy: 0.9894 - val_loss: 0.7635 - val_accuracy: 0.7435\n",
      "Epoch 36/45\n",
      "6/6 [==============================] - 6s 1s/step - loss: 0.0632 - accuracy: 0.9876 - val_loss: 0.7772 - val_accuracy: 0.7383\n",
      "Epoch 37/45\n",
      "6/6 [==============================] - 5s 922ms/step - loss: 0.0736 - accuracy: 0.9858 - val_loss: 0.7895 - val_accuracy: 0.7348\n",
      "Epoch 38/45\n",
      "6/6 [==============================] - 6s 966ms/step - loss: 0.0812 - accuracy: 0.9858 - val_loss: 0.8089 - val_accuracy: 0.7296\n",
      "Epoch 39/45\n",
      "6/6 [==============================] - 6s 996ms/step - loss: 0.0730 - accuracy: 0.9876 - val_loss: 0.7727 - val_accuracy: 0.7418\n",
      "Epoch 40/45\n",
      "6/6 [==============================] - 7s 1s/step - loss: 0.0698 - accuracy: 0.9912 - val_loss: 0.7510 - val_accuracy: 0.7556\n",
      "Epoch 41/45\n",
      "6/6 [==============================] - 5s 918ms/step - loss: 0.0711 - accuracy: 0.9894 - val_loss: 0.8015 - val_accuracy: 0.7331\n",
      "Epoch 42/45\n",
      "6/6 [==============================] - 6s 987ms/step - loss: 0.0628 - accuracy: 0.9947 - val_loss: 0.8490 - val_accuracy: 0.7140\n",
      "Epoch 43/45\n",
      "6/6 [==============================] - 5s 922ms/step - loss: 0.0581 - accuracy: 0.9912 - val_loss: 0.8443 - val_accuracy: 0.7227\n",
      "Epoch 44/45\n",
      "6/6 [==============================] - 6s 961ms/step - loss: 0.0716 - accuracy: 0.9805 - val_loss: 0.8226 - val_accuracy: 0.7262\n",
      "Epoch 45/45\n",
      "6/6 [==============================] - 5s 856ms/step - loss: 0.0689 - accuracy: 0.9929 - val_loss: 0.7706 - val_accuracy: 0.7487\n",
      "Epoch 1/45\n",
      "7/7 [==============================] - 5s 788ms/step - loss: 0.3626 - accuracy: 0.8718 - val_loss: 0.2630 - val_accuracy: 0.8832\n",
      "Epoch 2/45\n",
      "7/7 [==============================] - 6s 836ms/step - loss: 0.3613 - accuracy: 0.8648 - val_loss: 0.2298 - val_accuracy: 0.8938\n",
      "Epoch 3/45\n",
      "7/7 [==============================] - 5s 783ms/step - loss: 0.4004 - accuracy: 0.8804 - val_loss: 0.3273 - val_accuracy: 0.8212\n",
      "Epoch 4/45\n",
      "7/7 [==============================] - 5s 702ms/step - loss: 0.3456 - accuracy: 0.8769 - val_loss: 0.1098 - val_accuracy: 0.9876\n",
      "Epoch 5/45\n",
      "7/7 [==============================] - 5s 745ms/step - loss: 0.3388 - accuracy: 0.8700 - val_loss: 0.1065 - val_accuracy: 0.9770\n",
      "Epoch 6/45\n",
      "7/7 [==============================] - 5s 744ms/step - loss: 0.2544 - accuracy: 0.9168 - val_loss: 0.1380 - val_accuracy: 0.9558\n",
      "Epoch 7/45\n",
      "7/7 [==============================] - 5s 739ms/step - loss: 0.2598 - accuracy: 0.9203 - val_loss: 0.1411 - val_accuracy: 0.9522\n",
      "Epoch 8/45\n",
      "7/7 [==============================] - 5s 727ms/step - loss: 0.2747 - accuracy: 0.9029 - val_loss: 0.2288 - val_accuracy: 0.9027\n",
      "Epoch 9/45\n",
      "7/7 [==============================] - 5s 723ms/step - loss: 0.2681 - accuracy: 0.9012 - val_loss: 0.1679 - val_accuracy: 0.9398\n",
      "Epoch 10/45\n",
      "7/7 [==============================] - 5s 739ms/step - loss: 0.2712 - accuracy: 0.9029 - val_loss: 0.1246 - val_accuracy: 0.9664\n",
      "Epoch 11/45\n",
      "7/7 [==============================] - 5s 747ms/step - loss: 0.2552 - accuracy: 0.9029 - val_loss: 0.2151 - val_accuracy: 0.9080\n",
      "Epoch 12/45\n",
      "7/7 [==============================] - 5s 733ms/step - loss: 0.2981 - accuracy: 0.8943 - val_loss: 0.2736 - val_accuracy: 0.8779\n",
      "Epoch 13/45\n",
      "7/7 [==============================] - 5s 737ms/step - loss: 0.2325 - accuracy: 0.9220 - val_loss: 0.1343 - val_accuracy: 0.9717\n",
      "Epoch 14/45\n",
      "7/7 [==============================] - 5s 745ms/step - loss: 0.2687 - accuracy: 0.8995 - val_loss: 0.1340 - val_accuracy: 0.9717\n",
      "Epoch 15/45\n",
      "7/7 [==============================] - 5s 735ms/step - loss: 0.2519 - accuracy: 0.9047 - val_loss: 0.1432 - val_accuracy: 0.9558\n",
      "Epoch 16/45\n",
      "7/7 [==============================] - 6s 899ms/step - loss: 0.2341 - accuracy: 0.9272 - val_loss: 0.1860 - val_accuracy: 0.9257\n",
      "Epoch 17/45\n",
      "7/7 [==============================] - 6s 809ms/step - loss: 0.2079 - accuracy: 0.9307 - val_loss: 0.1372 - val_accuracy: 0.9575\n",
      "Epoch 18/45\n",
      "7/7 [==============================] - 6s 924ms/step - loss: 0.2067 - accuracy: 0.9307 - val_loss: 0.1505 - val_accuracy: 0.9522\n",
      "Epoch 19/45\n",
      "7/7 [==============================] - 5s 752ms/step - loss: 0.2090 - accuracy: 0.9341 - val_loss: 0.1777 - val_accuracy: 0.9363\n",
      "Epoch 20/45\n",
      "7/7 [==============================] - 5s 728ms/step - loss: 0.2099 - accuracy: 0.9411 - val_loss: 0.1501 - val_accuracy: 0.9522\n",
      "Epoch 21/45\n",
      "7/7 [==============================] - 8s 1s/step - loss: 0.2067 - accuracy: 0.9324 - val_loss: 0.1375 - val_accuracy: 0.9735\n",
      "Epoch 22/45\n",
      "7/7 [==============================] - 7s 1s/step - loss: 0.1922 - accuracy: 0.9359 - val_loss: 0.1470 - val_accuracy: 0.9593\n",
      "Epoch 23/45\n",
      "7/7 [==============================] - 6s 841ms/step - loss: 0.1915 - accuracy: 0.9428 - val_loss: 0.1573 - val_accuracy: 0.9487\n",
      "Epoch 24/45\n",
      "7/7 [==============================] - 5s 700ms/step - loss: 0.1938 - accuracy: 0.9359 - val_loss: 0.1482 - val_accuracy: 0.9611\n",
      "Epoch 25/45\n",
      "7/7 [==============================] - 5s 693ms/step - loss: 0.2371 - accuracy: 0.9099 - val_loss: 0.1734 - val_accuracy: 0.9770\n",
      "Epoch 26/45\n",
      "7/7 [==============================] - 6s 816ms/step - loss: 0.2456 - accuracy: 0.8960 - val_loss: 0.1503 - val_accuracy: 0.9841\n",
      "Epoch 27/45\n",
      "7/7 [==============================] - 7s 965ms/step - loss: 0.1953 - accuracy: 0.9255 - val_loss: 0.1418 - val_accuracy: 0.9575\n",
      "Epoch 28/45\n",
      "7/7 [==============================] - 6s 925ms/step - loss: 0.1900 - accuracy: 0.9428 - val_loss: 0.1362 - val_accuracy: 0.9770\n",
      "Epoch 29/45\n",
      "7/7 [==============================] - 5s 775ms/step - loss: 0.1860 - accuracy: 0.9272 - val_loss: 0.1388 - val_accuracy: 0.9611\n",
      "Epoch 30/45\n",
      "7/7 [==============================] - 5s 769ms/step - loss: 0.2177 - accuracy: 0.9359 - val_loss: 0.1524 - val_accuracy: 0.9522\n",
      "Epoch 31/45\n",
      "7/7 [==============================] - 5s 734ms/step - loss: 0.2075 - accuracy: 0.9168 - val_loss: 0.1409 - val_accuracy: 0.9646\n",
      "Epoch 32/45\n",
      "7/7 [==============================] - 5s 756ms/step - loss: 0.2151 - accuracy: 0.9220 - val_loss: 0.1351 - val_accuracy: 0.9717\n",
      "Epoch 33/45\n",
      "7/7 [==============================] - 5s 754ms/step - loss: 0.1805 - accuracy: 0.9428 - val_loss: 0.1357 - val_accuracy: 0.9752\n",
      "Epoch 34/45\n",
      "7/7 [==============================] - 5s 691ms/step - loss: 0.1817 - accuracy: 0.9359 - val_loss: 0.1385 - val_accuracy: 0.9628\n",
      "Epoch 35/45\n",
      "7/7 [==============================] - 5s 749ms/step - loss: 0.1988 - accuracy: 0.9255 - val_loss: 0.1695 - val_accuracy: 0.9398\n",
      "Epoch 36/45\n",
      "7/7 [==============================] - 5s 724ms/step - loss: 0.2231 - accuracy: 0.9255 - val_loss: 0.1568 - val_accuracy: 0.9487\n",
      "Epoch 37/45\n",
      "7/7 [==============================] - 5s 709ms/step - loss: 0.1680 - accuracy: 0.9445 - val_loss: 0.1451 - val_accuracy: 0.9664\n",
      "Epoch 38/45\n",
      "7/7 [==============================] - 6s 853ms/step - loss: 0.1834 - accuracy: 0.9376 - val_loss: 0.1473 - val_accuracy: 0.9841\n",
      "Epoch 39/45\n",
      "7/7 [==============================] - 6s 925ms/step - loss: 0.1928 - accuracy: 0.9341 - val_loss: 0.1563 - val_accuracy: 0.9947\n",
      "Epoch 40/45\n",
      "7/7 [==============================] - 6s 942ms/step - loss: 0.1749 - accuracy: 0.9289 - val_loss: 0.1421 - val_accuracy: 0.9752\n",
      "Epoch 41/45\n",
      "7/7 [==============================] - 5s 695ms/step - loss: 0.1837 - accuracy: 0.9428 - val_loss: 0.1474 - val_accuracy: 0.9646\n",
      "Epoch 42/45\n",
      "7/7 [==============================] - 5s 691ms/step - loss: 0.1795 - accuracy: 0.9341 - val_loss: 0.1410 - val_accuracy: 0.9735\n",
      "Epoch 43/45\n",
      "7/7 [==============================] - 5s 687ms/step - loss: 0.1684 - accuracy: 0.9428 - val_loss: 0.1418 - val_accuracy: 0.9752\n",
      "Epoch 44/45\n",
      "7/7 [==============================] - 5s 682ms/step - loss: 0.1690 - accuracy: 0.9445 - val_loss: 0.1403 - val_accuracy: 0.9735\n",
      "Epoch 45/45\n",
      "7/7 [==============================] - 5s 708ms/step - loss: 0.1689 - accuracy: 0.9428 - val_loss: 0.2020 - val_accuracy: 0.9593\n"
     ]
    }
   ],
   "source": [
    "accuracy=[]\n",
    "\n",
    "# model=rnnmodel()\n",
    "\n",
    "for train_index, val_index in gkf.split(data_array, label_array, groups=group_array):\n",
    "    \n",
    "    train_features,train_labels=data_array[train_index],label_array[train_index]\n",
    "    val_features,val_labels=data_array[val_index],label_array[val_index]\n",
    "    \n",
    "    scaler=StandardScaler()\n",
    "    train_features = scaler.fit_transform(train_features.reshape(-1, train_features.shape[-1])).reshape(train_features.shape)\n",
    "    val_features = scaler.transform(val_features.reshape(-1, val_features.shape[-1])).reshape(val_features.shape)\n",
    "    model_r=rnnmodel()\n",
    "    \n",
    "\n",
    "    history=model_r.fit(train_features,train_labels,epochs=45,batch_size=96,validation_data=(val_features,val_labels))\n",
    "    accuracy.append(history.history['accuracy'])"
   ]
  },
  {
   "cell_type": "code",
   "execution_count": 71,
   "id": "11326cef",
   "metadata": {},
   "outputs": [
    {
     "data": {
      "image/png": "[encoded data removed]",
      "text/plain": [
       "<Figure size 1000x600 with 1 Axes>"
      ]
     },
     "metadata": {},
     "output_type": "display_data"
    }
   ],
   "source": [
    "# Plot the training accuracy for each fold\n",
    "plt.figure(figsize=(10, 6))\n",
    "for i in range(len(accuracy)):\n",
    "    plt.plot(accuracy[i], label=f'Fold {i + 1}')\n",
    "\n",
    "plt.xlabel('Epochs')\n",
    "plt.ylabel('Accuracy')\n",
    "plt.title('Training Accuracy for Each Fold')\n",
    "plt.legend()\n",
    "plt.show()"
   ]
  },
  {
   "cell_type": "code",
   "execution_count": 75,
   "id": "4a866042",
   "metadata": {},
   "outputs": [
    {
     "name": "stdout",
     "output_type": "stream",
     "text": [
      "18/18 [==============================] - 1s 65ms/step - loss: 0.2020 - accuracy: 0.9593\n",
      "[0.20200112462043762, 0.9592920541763306]\n"
     ]
    }
   ],
   "source": [
    "b=model_r.evaluate(val_features,val_labels)\n",
    "print(b)"
   ]
  },
  {
   "cell_type": "code",
   "execution_count": 25,
   "id": "8c8c29f8",
   "metadata": {},
   "outputs": [
    {
     "name": "stdout",
     "output_type": "stream",
     "text": [
      "Model: \"sequential\"\n",
      "_________________________________________________________________\n",
      " Layer (type)                Output Shape              Param #   \n",
      "=================================================================\n",
      " conv1d (Conv1D)             (None, 6248, 5)           290       \n",
      "                                                                 \n",
      " batch_normalization (Batch  (None, 6248, 5)           20        \n",
      " Normalization)                                                  \n",
      "                                                                 \n",
      " leaky_re_lu (LeakyReLU)     (None, 6248, 5)           0         \n",
      "                                                                 \n",
      " max_pooling1d (MaxPooling1  (None, 3124, 5)           0         \n",
      " D)                                                              \n",
      "                                                                 \n",
      " conv1d_1 (Conv1D)           (None, 3122, 5)           80        \n",
      "                                                                 \n",
      " leaky_re_lu_1 (LeakyReLU)   (None, 3122, 5)           0         \n",
      "                                                                 \n",
      " max_pooling1d_1 (MaxPoolin  (None, 1561, 5)           0         \n",
      " g1D)                                                            \n",
      "                                                                 \n",
      " dropout (Dropout)           (None, 1561, 5)           0         \n",
      "                                                                 \n",
      " conv1d_2 (Conv1D)           (None, 1559, 5)           80        \n",
      "                                                                 \n",
      " leaky_re_lu_2 (LeakyReLU)   (None, 1559, 5)           0         \n",
      "                                                                 \n",
      " average_pooling1d (Average  (None, 779, 5)            0         \n",
      " Pooling1D)                                                      \n",
      "                                                                 \n",
      " dropout_1 (Dropout)         (None, 779, 5)            0         \n",
      "                                                                 \n",
      " conv1d_3 (Conv1D)           (None, 777, 5)            80        \n",
      "                                                                 \n",
      " leaky_re_lu_3 (LeakyReLU)   (None, 777, 5)            0         \n",
      "                                                                 \n",
      " average_pooling1d_1 (Avera  (None, 388, 5)            0         \n",
      " gePooling1D)                                                    \n",
      "                                                                 \n",
      " conv1d_4 (Conv1D)           (None, 386, 5)            80        \n",
      "                                                                 \n",
      " leaky_re_lu_4 (LeakyReLU)   (None, 386, 5)            0         \n",
      "                                                                 \n",
      " global_average_pooling1d (  (None, 5)                 0         \n",
      " GlobalAveragePooling1D)                                         \n",
      "                                                                 \n",
      " dense (Dense)               (None, 1)                 6         \n",
      "                                                                 \n",
      "=================================================================\n",
      "Total params: 636 (2.48 KB)\n",
      "Trainable params: 626 (2.45 KB)\n",
      "Non-trainable params: 10 (40.00 Byte)\n",
      "_________________________________________________________________\n"
     ]
    }
   ],
   "source": [
    "from tensorflow.keras.layers import Conv1D,BatchNormalization,LeakyReLU,MaxPool1D,\\\n",
    "GlobalAveragePooling1D,Dense,Dropout,AveragePooling1D\n",
    "from tensorflow.keras.models import Sequential\n",
    "from tensorflow.keras.backend import clear_session\n",
    "def resenetmodel():\n",
    "    clear_session()\n",
    "    model=Sequential()\n",
    "    model.add(Conv1D(filters=5,kernel_size=3,strides=1,input_shape=(6250,19)))#1\n",
    "    model.add(BatchNormalization())\n",
    "    model.add(LeakyReLU())\n",
    "    model.add(MaxPool1D(pool_size=2,strides=2))#2\n",
    "    model.add(Conv1D(filters=5,kernel_size=3,strides=1))#3\n",
    "    model.add(LeakyReLU())\n",
    "    model.add(MaxPool1D(pool_size=2,strides=2))#4\n",
    "    model.add(Dropout(0.5))\n",
    "    model.add(Conv1D(filters=5,kernel_size=3,strides=1))#5\n",
    "    model.add(LeakyReLU())\n",
    "    model.add(AveragePooling1D(pool_size=2,strides=2))#6\n",
    "    model.add(Dropout(0.5))\n",
    "    model.add(Conv1D(filters=5,kernel_size=3,strides=1))#7\n",
    "    model.add(LeakyReLU())\n",
    "    model.add(AveragePooling1D(pool_size=2,strides=2))#8\n",
    "    model.add(Conv1D(filters=5,kernel_size=3,strides=1))#9\n",
    "    model.add(LeakyReLU())\n",
    "    model.add(GlobalAveragePooling1D())#10\n",
    "    model.add(Dense(1,activation='sigmoid'))#11\n",
    "    \n",
    "    model.compile('adam',loss='binary_crossentropy',metrics=['accuracy'])\n",
    "    return model\n",
    "\n",
    "model= resenetmodel()\n",
    "model.summary()"
   ]
  },
  {
   "cell_type": "code",
   "execution_count": 58,
   "id": "f4dde637",
   "metadata": {
    "scrolled": true
   },
   "outputs": [
    {
     "name": "stdout",
     "output_type": "stream",
     "text": [
      "Epoch 1/45\n",
      "6/6 [==============================] - 9s 577ms/step - loss: 0.6861 - accuracy: 0.6106 - val_loss: 0.6931 - val_accuracy: 0.4870\n",
      "Epoch 2/45\n",
      "6/6 [==============================] - 2s 374ms/step - loss: 0.6795 - accuracy: 0.6106 - val_loss: 0.6928 - val_accuracy: 0.4870\n",
      "Epoch 3/45\n",
      "6/6 [==============================] - 2s 387ms/step - loss: 0.6732 - accuracy: 0.6106 - val_loss: 0.6930 - val_accuracy: 0.4870\n",
      "Epoch 4/45\n",
      "6/6 [==============================] - 2s 374ms/step - loss: 0.6682 - accuracy: 0.6106 - val_loss: 0.6940 - val_accuracy: 0.4870\n",
      "Epoch 5/45\n",
      "6/6 [==============================] - 2s 386ms/step - loss: 0.6582 - accuracy: 0.6106 - val_loss: 0.6959 - val_accuracy: 0.4870\n",
      "Epoch 6/45\n",
      "6/6 [==============================] - 2s 370ms/step - loss: 0.6535 - accuracy: 0.6106 - val_loss: 0.6993 - val_accuracy: 0.4870\n",
      "Epoch 7/45\n",
      "6/6 [==============================] - 2s 373ms/step - loss: 0.6449 - accuracy: 0.6106 - val_loss: 0.7017 - val_accuracy: 0.4870\n",
      "Epoch 8/45\n",
      "6/6 [==============================] - 2s 380ms/step - loss: 0.6446 - accuracy: 0.6106 - val_loss: 0.7026 - val_accuracy: 0.4870\n",
      "Epoch 9/45\n",
      "6/6 [==============================] - 2s 387ms/step - loss: 0.6394 - accuracy: 0.6106 - val_loss: 0.7025 - val_accuracy: 0.4870\n",
      "Epoch 10/45\n",
      "6/6 [==============================] - 2s 392ms/step - loss: 0.6377 - accuracy: 0.6106 - val_loss: 0.7013 - val_accuracy: 0.4870\n",
      "Epoch 11/45\n",
      "6/6 [==============================] - 2s 370ms/step - loss: 0.6259 - accuracy: 0.6106 - val_loss: 0.6994 - val_accuracy: 0.4870\n",
      "Epoch 12/45\n",
      "6/6 [==============================] - 2s 386ms/step - loss: 0.6246 - accuracy: 0.6106 - val_loss: 0.6975 - val_accuracy: 0.4870\n",
      "Epoch 13/45\n",
      "6/6 [==============================] - 2s 380ms/step - loss: 0.6158 - accuracy: 0.6106 - val_loss: 0.6961 - val_accuracy: 0.4870\n",
      "Epoch 14/45\n",
      "6/6 [==============================] - 2s 389ms/step - loss: 0.6118 - accuracy: 0.6106 - val_loss: 0.6976 - val_accuracy: 0.4870\n",
      "Epoch 15/45\n",
      "6/6 [==============================] - 2s 370ms/step - loss: 0.6041 - accuracy: 0.6106 - val_loss: 0.6936 - val_accuracy: 0.4870\n",
      "Epoch 16/45\n",
      "6/6 [==============================] - 2s 376ms/step - loss: 0.5890 - accuracy: 0.6106 - val_loss: 0.6893 - val_accuracy: 0.4870\n",
      "Epoch 17/45\n",
      "6/6 [==============================] - 2s 380ms/step - loss: 0.5830 - accuracy: 0.6106 - val_loss: 0.6861 - val_accuracy: 0.4870\n",
      "Epoch 18/45\n",
      "6/6 [==============================] - 2s 373ms/step - loss: 0.5648 - accuracy: 0.6106 - val_loss: 0.6869 - val_accuracy: 0.4870\n",
      "Epoch 19/45\n",
      "6/6 [==============================] - 2s 384ms/step - loss: 0.5501 - accuracy: 0.6283 - val_loss: 0.6902 - val_accuracy: 0.4870\n",
      "Epoch 20/45\n",
      "6/6 [==============================] - 2s 399ms/step - loss: 0.5299 - accuracy: 0.6124 - val_loss: 0.7045 - val_accuracy: 0.4870\n",
      "Epoch 21/45\n",
      "6/6 [==============================] - 2s 381ms/step - loss: 0.5128 - accuracy: 0.6460 - val_loss: 0.7028 - val_accuracy: 0.4905\n",
      "Epoch 22/45\n",
      "6/6 [==============================] - 2s 388ms/step - loss: 0.4962 - accuracy: 0.6991 - val_loss: 0.6991 - val_accuracy: 0.5269\n",
      "Epoch 23/45\n",
      "6/6 [==============================] - 2s 381ms/step - loss: 0.4659 - accuracy: 0.7646 - val_loss: 0.7187 - val_accuracy: 0.5373\n",
      "Epoch 24/45\n",
      "6/6 [==============================] - 2s 377ms/step - loss: 0.4417 - accuracy: 0.7717 - val_loss: 0.7374 - val_accuracy: 0.5511\n",
      "Epoch 25/45\n",
      "6/6 [==============================] - 2s 397ms/step - loss: 0.4107 - accuracy: 0.8283 - val_loss: 0.7580 - val_accuracy: 0.5927\n",
      "Epoch 26/45\n",
      "6/6 [==============================] - 2s 393ms/step - loss: 0.3830 - accuracy: 0.8743 - val_loss: 0.7641 - val_accuracy: 0.6447\n",
      "Epoch 27/45\n",
      "6/6 [==============================] - 2s 383ms/step - loss: 0.3329 - accuracy: 0.9274 - val_loss: 0.8424 - val_accuracy: 0.6014\n",
      "Epoch 28/45\n",
      "6/6 [==============================] - 2s 393ms/step - loss: 0.3007 - accuracy: 0.9274 - val_loss: 0.9082 - val_accuracy: 0.6014\n",
      "Epoch 29/45\n",
      "6/6 [==============================] - 2s 400ms/step - loss: 0.2599 - accuracy: 0.9487 - val_loss: 0.9841 - val_accuracy: 0.6066\n",
      "Epoch 30/45\n",
      "6/6 [==============================] - 2s 390ms/step - loss: 0.2488 - accuracy: 0.9434 - val_loss: 1.0465 - val_accuracy: 0.6256\n",
      "Epoch 31/45\n",
      "6/6 [==============================] - 2s 394ms/step - loss: 0.2120 - accuracy: 0.9611 - val_loss: 1.1269 - val_accuracy: 0.6239\n",
      "Epoch 32/45\n",
      "6/6 [==============================] - 2s 393ms/step - loss: 0.1911 - accuracy: 0.9646 - val_loss: 1.3374 - val_accuracy: 0.5685\n",
      "Epoch 33/45\n",
      "6/6 [==============================] - 2s 406ms/step - loss: 0.1542 - accuracy: 0.9841 - val_loss: 1.4719 - val_accuracy: 0.5667\n",
      "Epoch 34/45\n",
      "6/6 [==============================] - 2s 390ms/step - loss: 0.1450 - accuracy: 0.9770 - val_loss: 1.5540 - val_accuracy: 0.5685\n",
      "Epoch 35/45\n",
      "6/6 [==============================] - 2s 394ms/step - loss: 0.1223 - accuracy: 0.9770 - val_loss: 1.6859 - val_accuracy: 0.5650\n",
      "Epoch 36/45\n",
      "6/6 [==============================] - 2s 387ms/step - loss: 0.1328 - accuracy: 0.9717 - val_loss: 1.9191 - val_accuracy: 0.5529\n",
      "Epoch 37/45\n",
      "6/6 [==============================] - 2s 377ms/step - loss: 0.1105 - accuracy: 0.9735 - val_loss: 2.0325 - val_accuracy: 0.5494\n",
      "Epoch 38/45\n",
      "6/6 [==============================] - 2s 384ms/step - loss: 0.0842 - accuracy: 0.9858 - val_loss: 2.0854 - val_accuracy: 0.5546\n",
      "Epoch 39/45\n",
      "6/6 [==============================] - 2s 380ms/step - loss: 0.0694 - accuracy: 0.9912 - val_loss: 2.4772 - val_accuracy: 0.5199\n",
      "Epoch 40/45\n",
      "6/6 [==============================] - 2s 387ms/step - loss: 0.0839 - accuracy: 0.9823 - val_loss: 2.5570 - val_accuracy: 0.5217\n",
      "Epoch 41/45\n",
      "6/6 [==============================] - 2s 394ms/step - loss: 0.0730 - accuracy: 0.9841 - val_loss: 2.6674 - val_accuracy: 0.5251\n",
      "Epoch 42/45\n",
      "6/6 [==============================] - 2s 391ms/step - loss: 0.0603 - accuracy: 0.9912 - val_loss: 3.1018 - val_accuracy: 0.5061\n",
      "Epoch 43/45\n",
      "6/6 [==============================] - 2s 394ms/step - loss: 0.0517 - accuracy: 0.9965 - val_loss: 3.7048 - val_accuracy: 0.4957\n",
      "Epoch 44/45\n",
      "6/6 [==============================] - 2s 383ms/step - loss: 0.0641 - accuracy: 0.9876 - val_loss: 3.1534 - val_accuracy: 0.5095\n",
      "Epoch 45/45\n",
      "6/6 [==============================] - 2s 392ms/step - loss: 0.0550 - accuracy: 0.9894 - val_loss: 3.4157 - val_accuracy: 0.5061\n",
      "Epoch 1/45\n",
      "7/7 [==============================] - 3s 403ms/step - loss: 1.3200 - accuracy: 0.5962 - val_loss: 0.6076 - val_accuracy: 0.7097\n",
      "Epoch 2/45\n",
      "7/7 [==============================] - 2s 336ms/step - loss: 0.9584 - accuracy: 0.6742 - val_loss: 0.8034 - val_accuracy: 0.6850\n",
      "Epoch 3/45\n",
      "7/7 [==============================] - 2s 334ms/step - loss: 0.7100 - accuracy: 0.7314 - val_loss: 0.5727 - val_accuracy: 0.7062\n",
      "Epoch 4/45\n",
      "7/7 [==============================] - 2s 342ms/step - loss: 0.5820 - accuracy: 0.7660 - val_loss: 1.0261 - val_accuracy: 0.6496\n",
      "Epoch 5/45\n",
      "7/7 [==============================] - 2s 327ms/step - loss: 0.5099 - accuracy: 0.7851 - val_loss: 1.0364 - val_accuracy: 0.6478\n",
      "Epoch 6/45\n",
      "7/7 [==============================] - 2s 328ms/step - loss: 0.4931 - accuracy: 0.7678 - val_loss: 0.6128 - val_accuracy: 0.6956\n",
      "Epoch 7/45\n",
      "7/7 [==============================] - 2s 330ms/step - loss: 0.4598 - accuracy: 0.7816 - val_loss: 0.5796 - val_accuracy: 0.7009\n",
      "Epoch 8/45\n",
      "7/7 [==============================] - 2s 322ms/step - loss: 0.4650 - accuracy: 0.7868 - val_loss: 0.5638 - val_accuracy: 0.7062\n",
      "Epoch 9/45\n",
      "7/7 [==============================] - 2s 334ms/step - loss: 0.4137 - accuracy: 0.8250 - val_loss: 0.6824 - val_accuracy: 0.6832\n",
      "Epoch 10/45\n",
      "7/7 [==============================] - 2s 323ms/step - loss: 0.4135 - accuracy: 0.8319 - val_loss: 0.6491 - val_accuracy: 0.6867\n",
      "Epoch 11/45\n",
      "7/7 [==============================] - 2s 332ms/step - loss: 0.4300 - accuracy: 0.8198 - val_loss: 0.5466 - val_accuracy: 0.7115\n",
      "Epoch 12/45\n",
      "7/7 [==============================] - 2s 340ms/step - loss: 0.4033 - accuracy: 0.8302 - val_loss: 0.5092 - val_accuracy: 0.7150\n",
      "Epoch 13/45\n",
      "7/7 [==============================] - 2s 326ms/step - loss: 0.3783 - accuracy: 0.8371 - val_loss: 0.3461 - val_accuracy: 0.8496\n",
      "Epoch 14/45\n",
      "7/7 [==============================] - 2s 320ms/step - loss: 0.3792 - accuracy: 0.8562 - val_loss: 0.3453 - val_accuracy: 0.8389\n",
      "Epoch 15/45\n",
      "7/7 [==============================] - 2s 325ms/step - loss: 0.3835 - accuracy: 0.8406 - val_loss: 0.3676 - val_accuracy: 0.8230\n",
      "Epoch 16/45\n",
      "7/7 [==============================] - 2s 326ms/step - loss: 0.4019 - accuracy: 0.8371 - val_loss: 0.3232 - val_accuracy: 0.8566\n",
      "Epoch 17/45\n",
      "7/7 [==============================] - 2s 331ms/step - loss: 0.4194 - accuracy: 0.8267 - val_loss: 0.2718 - val_accuracy: 0.9044\n",
      "Epoch 18/45\n",
      "7/7 [==============================] - 2s 331ms/step - loss: 0.3719 - accuracy: 0.8527 - val_loss: 0.2453 - val_accuracy: 0.9363\n",
      "Epoch 19/45\n",
      "7/7 [==============================] - 2s 341ms/step - loss: 0.3679 - accuracy: 0.8388 - val_loss: 0.2331 - val_accuracy: 0.9487\n",
      "Epoch 20/45\n",
      "7/7 [==============================] - 3s 392ms/step - loss: 0.3566 - accuracy: 0.8492 - val_loss: 0.2542 - val_accuracy: 0.9345\n",
      "Epoch 21/45\n",
      "7/7 [==============================] - 2s 346ms/step - loss: 0.3592 - accuracy: 0.8683 - val_loss: 0.2497 - val_accuracy: 0.9327\n",
      "Epoch 22/45\n",
      "7/7 [==============================] - 2s 359ms/step - loss: 0.3529 - accuracy: 0.8510 - val_loss: 0.2477 - val_accuracy: 0.9363\n",
      "Epoch 23/45\n",
      "7/7 [==============================] - 2s 343ms/step - loss: 0.3430 - accuracy: 0.8683 - val_loss: 0.2771 - val_accuracy: 0.9168\n",
      "Epoch 24/45\n",
      "7/7 [==============================] - 2s 349ms/step - loss: 0.3665 - accuracy: 0.8579 - val_loss: 0.3098 - val_accuracy: 0.8938\n",
      "Epoch 25/45\n",
      "7/7 [==============================] - 2s 338ms/step - loss: 0.3598 - accuracy: 0.8631 - val_loss: 0.2891 - val_accuracy: 0.9062\n",
      "Epoch 26/45\n",
      "7/7 [==============================] - 2s 361ms/step - loss: 0.3796 - accuracy: 0.8423 - val_loss: 0.2543 - val_accuracy: 0.9274\n",
      "Epoch 27/45\n",
      "7/7 [==============================] - 2s 346ms/step - loss: 0.3100 - accuracy: 0.8873 - val_loss: 0.2570 - val_accuracy: 0.9628\n",
      "Epoch 28/45\n",
      "7/7 [==============================] - 2s 336ms/step - loss: 0.3808 - accuracy: 0.8371 - val_loss: 0.2885 - val_accuracy: 0.9735\n",
      "Epoch 29/45\n",
      "7/7 [==============================] - 2s 362ms/step - loss: 0.3862 - accuracy: 0.8336 - val_loss: 0.2800 - val_accuracy: 0.9575\n",
      "Epoch 30/45\n",
      "7/7 [==============================] - 2s 342ms/step - loss: 0.2998 - accuracy: 0.8891 - val_loss: 0.2871 - val_accuracy: 0.9150\n",
      "Epoch 31/45\n",
      "7/7 [==============================] - 2s 336ms/step - loss: 0.3378 - accuracy: 0.8648 - val_loss: 0.3210 - val_accuracy: 0.9027\n",
      "Epoch 32/45\n",
      "7/7 [==============================] - 2s 345ms/step - loss: 0.3540 - accuracy: 0.8371 - val_loss: 0.2958 - val_accuracy: 0.9186\n",
      "Epoch 33/45\n",
      "7/7 [==============================] - 2s 337ms/step - loss: 0.3185 - accuracy: 0.8856 - val_loss: 0.2904 - val_accuracy: 0.9327\n",
      "Epoch 34/45\n",
      "7/7 [==============================] - 2s 340ms/step - loss: 0.3276 - accuracy: 0.8787 - val_loss: 0.3022 - val_accuracy: 0.9469\n",
      "Epoch 35/45\n",
      "7/7 [==============================] - 2s 325ms/step - loss: 0.3208 - accuracy: 0.8752 - val_loss: 0.3066 - val_accuracy: 0.9451\n",
      "Epoch 36/45\n",
      "7/7 [==============================] - 2s 341ms/step - loss: 0.3135 - accuracy: 0.8700 - val_loss: 0.3102 - val_accuracy: 0.9310\n",
      "Epoch 37/45\n",
      "7/7 [==============================] - 2s 330ms/step - loss: 0.3137 - accuracy: 0.8995 - val_loss: 0.3166 - val_accuracy: 0.9292\n",
      "Epoch 38/45\n",
      "7/7 [==============================] - 2s 342ms/step - loss: 0.2957 - accuracy: 0.8839 - val_loss: 0.3250 - val_accuracy: 0.9115\n",
      "Epoch 39/45\n",
      "7/7 [==============================] - 2s 344ms/step - loss: 0.2978 - accuracy: 0.8856 - val_loss: 0.3293 - val_accuracy: 0.9239\n",
      "Epoch 40/45\n",
      "7/7 [==============================] - 2s 336ms/step - loss: 0.2963 - accuracy: 0.9029 - val_loss: 0.3361 - val_accuracy: 0.9274\n",
      "Epoch 41/45\n",
      "7/7 [==============================] - 2s 331ms/step - loss: 0.2898 - accuracy: 0.8943 - val_loss: 0.3457 - val_accuracy: 0.9345\n",
      "Epoch 42/45\n",
      "7/7 [==============================] - 2s 333ms/step - loss: 0.3072 - accuracy: 0.8787 - val_loss: 0.3511 - val_accuracy: 0.9310\n",
      "Epoch 43/45\n",
      "7/7 [==============================] - 2s 325ms/step - loss: 0.2790 - accuracy: 0.8995 - val_loss: 0.3537 - val_accuracy: 0.9062\n",
      "Epoch 44/45\n",
      "7/7 [==============================] - 2s 329ms/step - loss: 0.3048 - accuracy: 0.8995 - val_loss: 0.3547 - val_accuracy: 0.9257\n",
      "Epoch 45/45\n",
      "7/7 [==============================] - 2s 330ms/step - loss: 0.2731 - accuracy: 0.9151 - val_loss: 0.3890 - val_accuracy: 0.9504\n"
     ]
    }
   ],
   "source": [
    "from sklearn.model_selection import GroupKFold\n",
    "from sklearn.preprocessing import StandardScaler\n",
    "import numpy as np\n",
    "\n",
    "gkf = GroupKFold(n_splits=2) \n",
    "accuracy = []\n",
    "\n",
    "model = resenetmodel()\n",
    "\n",
    "for train_index, val_index in gkf.split(data_array, label_array, groups=group_array):\n",
    "    train_features, train_labels = data_array[train_index], label_array[train_index]\n",
    "    val_features, val_labels = data_array[val_index], label_array[val_index]\n",
    "\n",
    "    scaler = StandardScaler()\n",
    "    train_features = scaler.fit_transform(train_features.reshape(-1, train_features.shape[-1])).reshape(train_features.shape)\n",
    "    val_features = scaler.transform(val_features.reshape(-1, val_features.shape[-1])).reshape(val_features.shape)\n",
    "    history = model.fit(train_features, train_labels, epochs=45, batch_size=96, validation_data=(val_features, val_labels))\n",
    "\n",
    "    # Collect the accuracy for each fold\n",
    "    accuracy.append(history.history['accuracy'])  # Adjust based on your metric of interest\n",
    "\n",
    "\n",
    "\n",
    "\n"
   ]
  },
  {
   "cell_type": "code",
   "execution_count": 60,
   "id": "25fa9a72",
   "metadata": {},
   "outputs": [
    {
     "data": {
      "image/png": "[encoded data removed]",
      "text/plain": [
       "<Figure size 1000x600 with 1 Axes>"
      ]
     },
     "metadata": {},
     "output_type": "display_data"
    }
   ],
   "source": [
    "# Plot the training accuracy for each fold\n",
    "plt.figure(figsize=(10, 6))\n",
    "for i in range(len(accuracy)):\n",
    "    plt.plot(accuracy[i], label=f'Fold {i + 1}')\n",
    "\n",
    "plt.xlabel('Epochs')\n",
    "plt.ylabel('Accuracy')\n",
    "plt.title('Training Accuracy for Each Fold')\n",
    "plt.legend()\n",
    "plt.show()"
   ]
  },
  {
   "cell_type": "code",
   "execution_count": 29,
   "id": "5120752f",
   "metadata": {},
   "outputs": [
    {
     "name": "stdout",
     "output_type": "stream",
     "text": [
      "8/8 [==============================] - 0s 48ms/step - loss: 0.2467 - accuracy: 0.9617\n",
      "[0.2467273473739624, 0.9617021083831787]\n"
     ]
    }
   ],
   "source": [
    "c=model.evaluate(val_features,val_labels)\n",
    "print(c)"
   ]
  },
  {
   "cell_type": "code",
   "execution_count": 30,
   "id": "09112c81",
   "metadata": {},
   "outputs": [
    {
     "name": "stdout",
     "output_type": "stream",
     "text": [
      "Model: \"sequential\"\n",
      "_________________________________________________________________\n",
      " Layer (type)                Output Shape              Param #   \n",
      "=================================================================\n",
      " conv1d (Conv1D)             (None, 6248, 5)           290       \n",
      "                                                                 \n",
      " batch_normalization (Batch  (None, 6248, 5)           20        \n",
      " Normalization)                                                  \n",
      "                                                                 \n",
      " leaky_re_lu (LeakyReLU)     (None, 6248, 5)           0         \n",
      "                                                                 \n",
      " max_pooling1d (MaxPooling1  (None, 3124, 5)           0         \n",
      " D)                                                              \n",
      "                                                                 \n",
      " conv1d_1 (Conv1D)           (None, 3122, 5)           80        \n",
      "                                                                 \n",
      " leaky_re_lu_1 (LeakyReLU)   (None, 3122, 5)           0         \n",
      "                                                                 \n",
      " max_pooling1d_1 (MaxPoolin  (None, 1561, 5)           0         \n",
      " g1D)                                                            \n",
      "                                                                 \n",
      " dropout (Dropout)           (None, 1561, 5)           0         \n",
      "                                                                 \n",
      " conv1d_2 (Conv1D)           (None, 1559, 5)           80        \n",
      "                                                                 \n",
      " leaky_re_lu_2 (LeakyReLU)   (None, 1559, 5)           0         \n",
      "                                                                 \n",
      " average_pooling1d (Average  (None, 779, 5)            0         \n",
      " Pooling1D)                                                      \n",
      "                                                                 \n",
      " dropout_1 (Dropout)         (None, 779, 5)            0         \n",
      "                                                                 \n",
      " conv1d_3 (Conv1D)           (None, 777, 5)            80        \n",
      "                                                                 \n",
      " leaky_re_lu_3 (LeakyReLU)   (None, 777, 5)            0         \n",
      "                                                                 \n",
      " average_pooling1d_1 (Avera  (None, 388, 5)            0         \n",
      " gePooling1D)                                                    \n",
      "                                                                 \n",
      " conv1d_4 (Conv1D)           (None, 386, 5)            80        \n",
      "                                                                 \n",
      " leaky_re_lu_4 (LeakyReLU)   (None, 386, 5)            0         \n",
      "                                                                 \n",
      " global_average_pooling1d (  (None, 5)                 0         \n",
      " GlobalAveragePooling1D)                                         \n",
      "                                                                 \n",
      " dense (Dense)               (None, 1)                 6         \n",
      "                                                                 \n",
      "=================================================================\n",
      "Total params: 636 (2.48 KB)\n",
      "Trainable params: 626 (2.45 KB)\n",
      "Non-trainable params: 10 (40.00 Byte)\n",
      "_________________________________________________________________\n"
     ]
    }
   ],
   "source": [
    "from tensorflow.keras.layers import Conv1D, BatchNormalization, LeakyReLU, MaxPool1D,\\\n",
    "GlobalAveragePooling1D, Dense, Dropout, AveragePooling1D\n",
    "from tensorflow.keras.models import Sequential\n",
    "from tensorflow.keras.backend import clear_session\n",
    "\n",
    "def grumodel():\n",
    "    model_r = tf.keras.Sequential([\n",
    "        tf.keras.layers.SimpleRNN(32, activation='relu', return_sequences=True, input_shape=((6250,19)), dropout=0.2),\n",
    "        # tf.keras.layers.SimpleRNN(64, activation='relu', return_sequences=True, dropout=0.2),\n",
    "        tf.keras.layers.Dense(1)  # Output layer for regression\n",
    "    ])\n",
    "\n",
    "    model_r.compile(optimizer='adam', loss='mean_squared_error')\n",
    "    return model\n",
    "\n",
    "model_r = grumodel()\n",
    "model_r.summary()"
   ]
  },
  {
   "cell_type": "code",
   "execution_count": 61,
   "id": "761632a0",
   "metadata": {
    "scrolled": true
   },
   "outputs": [
    {
     "name": "stdout",
     "output_type": "stream",
     "text": [
      "Epoch 1/45\n",
      "6/6 [==============================] - 4s 704ms/step - loss: 0.4941 - accuracy: 0.7858 - val_loss: 0.3991 - val_accuracy: 0.7955\n",
      "Epoch 2/45\n",
      "6/6 [==============================] - 2s 327ms/step - loss: 0.2826 - accuracy: 0.8885 - val_loss: 0.3512 - val_accuracy: 0.8735\n",
      "Epoch 3/45\n",
      "6/6 [==============================] - 2s 326ms/step - loss: 0.2353 - accuracy: 0.9310 - val_loss: 0.3658 - val_accuracy: 0.8735\n",
      "Epoch 4/45\n",
      "6/6 [==============================] - 2s 337ms/step - loss: 0.1975 - accuracy: 0.9345 - val_loss: 0.3601 - val_accuracy: 0.8769\n",
      "Epoch 5/45\n",
      "6/6 [==============================] - 2s 327ms/step - loss: 0.1689 - accuracy: 0.9540 - val_loss: 0.3698 - val_accuracy: 0.8579\n",
      "Epoch 6/45\n",
      "6/6 [==============================] - 2s 340ms/step - loss: 0.1505 - accuracy: 0.9681 - val_loss: 0.3929 - val_accuracy: 0.8371\n",
      "Epoch 7/45\n",
      "6/6 [==============================] - 2s 363ms/step - loss: 0.1425 - accuracy: 0.9628 - val_loss: 0.3869 - val_accuracy: 0.8406\n",
      "Epoch 8/45\n",
      "6/6 [==============================] - 2s 351ms/step - loss: 0.1384 - accuracy: 0.9664 - val_loss: 0.3689 - val_accuracy: 0.8648\n",
      "Epoch 9/45\n",
      "6/6 [==============================] - 2s 340ms/step - loss: 0.1219 - accuracy: 0.9788 - val_loss: 0.3674 - val_accuracy: 0.8735\n",
      "Epoch 10/45\n",
      "6/6 [==============================] - 2s 357ms/step - loss: 0.1156 - accuracy: 0.9788 - val_loss: 0.3708 - val_accuracy: 0.8614\n",
      "Epoch 11/45\n",
      "6/6 [==============================] - 2s 340ms/step - loss: 0.1073 - accuracy: 0.9805 - val_loss: 0.3734 - val_accuracy: 0.8596\n",
      "Epoch 12/45\n",
      "6/6 [==============================] - 2s 358ms/step - loss: 0.1085 - accuracy: 0.9788 - val_loss: 0.3728 - val_accuracy: 0.8579\n",
      "Epoch 13/45\n",
      "6/6 [==============================] - 2s 374ms/step - loss: 0.1087 - accuracy: 0.9823 - val_loss: 0.3757 - val_accuracy: 0.8596\n",
      "Epoch 14/45\n",
      "6/6 [==============================] - 2s 350ms/step - loss: 0.0958 - accuracy: 0.9894 - val_loss: 0.3743 - val_accuracy: 0.8648\n",
      "Epoch 15/45\n",
      "6/6 [==============================] - 2s 367ms/step - loss: 0.0932 - accuracy: 0.9876 - val_loss: 0.3786 - val_accuracy: 0.8614\n",
      "Epoch 16/45\n",
      "6/6 [==============================] - 2s 350ms/step - loss: 0.0932 - accuracy: 0.9788 - val_loss: 0.3911 - val_accuracy: 0.8510\n",
      "Epoch 17/45\n",
      "6/6 [==============================] - 2s 340ms/step - loss: 0.0905 - accuracy: 0.9876 - val_loss: 0.3990 - val_accuracy: 0.8527\n",
      "Epoch 18/45\n",
      "6/6 [==============================] - 2s 357ms/step - loss: 0.0841 - accuracy: 0.9876 - val_loss: 0.4018 - val_accuracy: 0.8510\n",
      "Epoch 19/45\n",
      "6/6 [==============================] - 2s 354ms/step - loss: 0.0791 - accuracy: 0.9858 - val_loss: 0.4034 - val_accuracy: 0.8510\n",
      "Epoch 20/45\n",
      "6/6 [==============================] - 2s 353ms/step - loss: 0.0811 - accuracy: 0.9770 - val_loss: 0.4019 - val_accuracy: 0.8510\n",
      "Epoch 21/45\n",
      "6/6 [==============================] - 2s 353ms/step - loss: 0.0672 - accuracy: 0.9929 - val_loss: 0.4050 - val_accuracy: 0.8544\n",
      "Epoch 22/45\n",
      "6/6 [==============================] - 2s 347ms/step - loss: 0.0675 - accuracy: 0.9912 - val_loss: 0.4203 - val_accuracy: 0.8510\n",
      "Epoch 23/45\n",
      "6/6 [==============================] - 2s 357ms/step - loss: 0.0654 - accuracy: 0.9912 - val_loss: 0.4327 - val_accuracy: 0.8475\n",
      "Epoch 24/45\n",
      "6/6 [==============================] - 2s 367ms/step - loss: 0.0685 - accuracy: 0.9947 - val_loss: 0.4319 - val_accuracy: 0.8510\n",
      "Epoch 25/45\n",
      "6/6 [==============================] - 2s 357ms/step - loss: 0.0623 - accuracy: 0.9929 - val_loss: 0.4352 - val_accuracy: 0.8440\n",
      "Epoch 26/45\n",
      "6/6 [==============================] - 2s 343ms/step - loss: 0.0582 - accuracy: 0.9965 - val_loss: 0.4434 - val_accuracy: 0.8440\n",
      "Epoch 27/45\n",
      "6/6 [==============================] - 2s 350ms/step - loss: 0.0730 - accuracy: 0.9876 - val_loss: 0.4642 - val_accuracy: 0.8354\n",
      "Epoch 28/45\n",
      "6/6 [==============================] - 2s 364ms/step - loss: 0.0591 - accuracy: 0.9947 - val_loss: 0.5191 - val_accuracy: 0.8180\n",
      "Epoch 29/45\n",
      "6/6 [==============================] - 2s 363ms/step - loss: 0.0637 - accuracy: 0.9947 - val_loss: 0.5635 - val_accuracy: 0.7903\n",
      "Epoch 30/45\n",
      "6/6 [==============================] - 2s 354ms/step - loss: 0.0540 - accuracy: 0.9894 - val_loss: 0.5475 - val_accuracy: 0.8007\n",
      "Epoch 31/45\n",
      "6/6 [==============================] - 2s 374ms/step - loss: 0.0538 - accuracy: 0.9912 - val_loss: 0.5563 - val_accuracy: 0.7955\n",
      "Epoch 32/45\n",
      "6/6 [==============================] - 2s 380ms/step - loss: 0.0497 - accuracy: 0.9947 - val_loss: 0.5674 - val_accuracy: 0.7903\n",
      "Epoch 33/45\n",
      "6/6 [==============================] - 2s 381ms/step - loss: 0.0517 - accuracy: 0.9912 - val_loss: 0.6237 - val_accuracy: 0.7712\n",
      "Epoch 34/45\n",
      "6/6 [==============================] - 2s 369ms/step - loss: 0.0489 - accuracy: 0.9947 - val_loss: 0.7179 - val_accuracy: 0.7400\n",
      "Epoch 35/45\n",
      "6/6 [==============================] - 2s 360ms/step - loss: 0.0482 - accuracy: 0.9929 - val_loss: 0.7326 - val_accuracy: 0.7348\n",
      "Epoch 36/45\n",
      "6/6 [==============================] - 2s 364ms/step - loss: 0.0464 - accuracy: 0.9894 - val_loss: 0.7060 - val_accuracy: 0.7452\n",
      "Epoch 37/45\n",
      "6/6 [==============================] - 2s 362ms/step - loss: 0.0407 - accuracy: 0.9965 - val_loss: 0.7582 - val_accuracy: 0.7314\n",
      "Epoch 38/45\n",
      "6/6 [==============================] - 2s 361ms/step - loss: 0.0453 - accuracy: 0.9929 - val_loss: 0.7924 - val_accuracy: 0.7262\n",
      "Epoch 39/45\n",
      "6/6 [==============================] - 2s 358ms/step - loss: 0.0383 - accuracy: 0.9965 - val_loss: 0.7906 - val_accuracy: 0.7227\n",
      "Epoch 40/45\n",
      "6/6 [==============================] - 2s 379ms/step - loss: 0.0456 - accuracy: 0.9912 - val_loss: 0.8470 - val_accuracy: 0.7123\n",
      "Epoch 41/45\n",
      "6/6 [==============================] - 2s 367ms/step - loss: 0.0593 - accuracy: 0.9823 - val_loss: 1.0501 - val_accuracy: 0.6464\n",
      "Epoch 42/45\n",
      "6/6 [==============================] - 2s 360ms/step - loss: 0.0377 - accuracy: 0.9965 - val_loss: 1.2366 - val_accuracy: 0.5910\n",
      "Epoch 43/45\n",
      "6/6 [==============================] - 2s 380ms/step - loss: 0.0383 - accuracy: 0.9947 - val_loss: 1.2091 - val_accuracy: 0.6031\n",
      "Epoch 44/45\n",
      "6/6 [==============================] - 2s 372ms/step - loss: 0.0358 - accuracy: 0.9947 - val_loss: 1.1914 - val_accuracy: 0.6083\n",
      "Epoch 45/45\n",
      "6/6 [==============================] - 2s 373ms/step - loss: 0.0298 - accuracy: 1.0000 - val_loss: 1.1281 - val_accuracy: 0.6274\n",
      "Epoch 1/45\n",
      "7/7 [==============================] - 3s 507ms/step - loss: 0.5009 - accuracy: 0.8128 - val_loss: 0.5117 - val_accuracy: 0.7788\n",
      "Epoch 2/45\n",
      "7/7 [==============================] - 3s 369ms/step - loss: 0.5029 - accuracy: 0.8215 - val_loss: 0.4459 - val_accuracy: 0.7805\n",
      "Epoch 3/45\n",
      "7/7 [==============================] - 2s 340ms/step - loss: 0.3795 - accuracy: 0.8700 - val_loss: 0.4887 - val_accuracy: 0.7699\n",
      "Epoch 4/45\n",
      "7/7 [==============================] - 2s 339ms/step - loss: 0.4069 - accuracy: 0.8492 - val_loss: 0.3811 - val_accuracy: 0.8018\n",
      "Epoch 5/45\n",
      "7/7 [==============================] - 2s 339ms/step - loss: 0.4273 - accuracy: 0.8406 - val_loss: 0.6418 - val_accuracy: 0.7522\n",
      "Epoch 6/45\n",
      "7/7 [==============================] - 2s 339ms/step - loss: 0.3619 - accuracy: 0.8648 - val_loss: 0.6754 - val_accuracy: 0.7416\n",
      "Epoch 7/45\n",
      "7/7 [==============================] - 2s 311ms/step - loss: 0.3639 - accuracy: 0.8821 - val_loss: 0.3651 - val_accuracy: 0.8124\n",
      "Epoch 8/45\n",
      "7/7 [==============================] - 2s 324ms/step - loss: 0.3813 - accuracy: 0.8596 - val_loss: 0.5397 - val_accuracy: 0.7558\n",
      "Epoch 9/45\n",
      "7/7 [==============================] - 2s 319ms/step - loss: 0.3060 - accuracy: 0.9047 - val_loss: 0.7310 - val_accuracy: 0.7062\n",
      "Epoch 10/45\n",
      "7/7 [==============================] - 2s 347ms/step - loss: 0.3146 - accuracy: 0.8769 - val_loss: 0.5527 - val_accuracy: 0.7504\n",
      "Epoch 11/45\n",
      "7/7 [==============================] - 2s 334ms/step - loss: 0.2768 - accuracy: 0.9047 - val_loss: 0.3255 - val_accuracy: 0.8566\n",
      "Epoch 12/45\n",
      "7/7 [==============================] - 2s 353ms/step - loss: 0.2872 - accuracy: 0.8908 - val_loss: 0.2822 - val_accuracy: 0.8938\n",
      "Epoch 13/45\n",
      "7/7 [==============================] - 2s 317ms/step - loss: 0.2580 - accuracy: 0.9133 - val_loss: 0.3137 - val_accuracy: 0.8708\n",
      "Epoch 14/45\n",
      "7/7 [==============================] - 2s 320ms/step - loss: 0.2617 - accuracy: 0.9116 - val_loss: 0.3260 - val_accuracy: 0.8602\n",
      "Epoch 15/45\n",
      "7/7 [==============================] - 2s 322ms/step - loss: 0.2785 - accuracy: 0.8925 - val_loss: 0.4358 - val_accuracy: 0.7841\n",
      "Epoch 16/45\n",
      "7/7 [==============================] - 2s 322ms/step - loss: 0.2657 - accuracy: 0.9064 - val_loss: 0.2498 - val_accuracy: 0.9115\n",
      "Epoch 17/45\n",
      "7/7 [==============================] - 2s 326ms/step - loss: 0.2645 - accuracy: 0.8977 - val_loss: 0.2260 - val_accuracy: 0.9327\n",
      "Epoch 18/45\n",
      "7/7 [==============================] - 2s 327ms/step - loss: 0.2622 - accuracy: 0.8960 - val_loss: 0.2496 - val_accuracy: 0.9168\n",
      "Epoch 19/45\n",
      "7/7 [==============================] - 2s 317ms/step - loss: 0.2640 - accuracy: 0.9064 - val_loss: 0.3503 - val_accuracy: 0.8389\n",
      "Epoch 20/45\n",
      "7/7 [==============================] - 2s 339ms/step - loss: 0.2732 - accuracy: 0.8977 - val_loss: 0.4331 - val_accuracy: 0.7735\n",
      "Epoch 21/45\n",
      "7/7 [==============================] - 2s 323ms/step - loss: 0.3183 - accuracy: 0.8873 - val_loss: 0.3341 - val_accuracy: 0.8195\n",
      "Epoch 22/45\n",
      "7/7 [==============================] - 2s 319ms/step - loss: 0.2454 - accuracy: 0.9116 - val_loss: 0.2593 - val_accuracy: 0.9150\n",
      "Epoch 23/45\n",
      "7/7 [==============================] - 2s 314ms/step - loss: 0.2448 - accuracy: 0.9151 - val_loss: 0.2425 - val_accuracy: 0.9381\n",
      "Epoch 24/45\n",
      "7/7 [==============================] - 2s 308ms/step - loss: 0.2529 - accuracy: 0.9064 - val_loss: 0.2557 - val_accuracy: 0.9239\n",
      "Epoch 25/45\n",
      "7/7 [==============================] - 2s 320ms/step - loss: 0.2376 - accuracy: 0.9220 - val_loss: 0.2885 - val_accuracy: 0.8920\n",
      "Epoch 26/45\n",
      "7/7 [==============================] - 2s 320ms/step - loss: 0.2123 - accuracy: 0.9411 - val_loss: 0.2946 - val_accuracy: 0.8885\n",
      "Epoch 27/45\n",
      "7/7 [==============================] - 2s 328ms/step - loss: 0.2258 - accuracy: 0.9289 - val_loss: 0.2766 - val_accuracy: 0.9168\n",
      "Epoch 28/45\n",
      "7/7 [==============================] - 2s 325ms/step - loss: 0.2153 - accuracy: 0.9237 - val_loss: 0.2938 - val_accuracy: 0.9133\n",
      "Epoch 29/45\n",
      "7/7 [==============================] - 2s 324ms/step - loss: 0.2153 - accuracy: 0.9255 - val_loss: 0.2992 - val_accuracy: 0.9080\n",
      "Epoch 30/45\n",
      "7/7 [==============================] - 2s 328ms/step - loss: 0.2738 - accuracy: 0.8873 - val_loss: 0.3919 - val_accuracy: 0.7965\n",
      "Epoch 31/45\n",
      "7/7 [==============================] - 2s 322ms/step - loss: 0.3022 - accuracy: 0.8804 - val_loss: 0.3097 - val_accuracy: 0.8885\n",
      "Epoch 32/45\n",
      "7/7 [==============================] - 2s 338ms/step - loss: 0.2560 - accuracy: 0.9029 - val_loss: 0.3556 - val_accuracy: 0.9735\n",
      "Epoch 33/45\n",
      "7/7 [==============================] - 2s 322ms/step - loss: 0.3893 - accuracy: 0.8198 - val_loss: 0.3679 - val_accuracy: 0.9434\n",
      "Epoch 34/45\n",
      "7/7 [==============================] - 2s 329ms/step - loss: 0.2862 - accuracy: 0.8666 - val_loss: 0.4138 - val_accuracy: 0.8566\n",
      "Epoch 35/45\n",
      "7/7 [==============================] - 2s 328ms/step - loss: 0.2342 - accuracy: 0.8977 - val_loss: 0.4280 - val_accuracy: 0.8336\n",
      "Epoch 36/45\n",
      "7/7 [==============================] - 2s 311ms/step - loss: 0.2271 - accuracy: 0.9064 - val_loss: 0.3595 - val_accuracy: 0.8796\n",
      "Epoch 37/45\n",
      "7/7 [==============================] - 2s 332ms/step - loss: 0.2216 - accuracy: 0.9255 - val_loss: 0.3446 - val_accuracy: 0.9345\n",
      "Epoch 38/45\n",
      "7/7 [==============================] - 2s 319ms/step - loss: 0.2191 - accuracy: 0.9168 - val_loss: 0.3454 - val_accuracy: 0.9363\n",
      "Epoch 39/45\n",
      "7/7 [==============================] - 2s 322ms/step - loss: 0.2226 - accuracy: 0.9255 - val_loss: 0.3541 - val_accuracy: 0.9080\n",
      "Epoch 40/45\n",
      "7/7 [==============================] - 2s 319ms/step - loss: 0.2002 - accuracy: 0.9359 - val_loss: 0.3652 - val_accuracy: 0.8850\n",
      "Epoch 41/45\n",
      "7/7 [==============================] - 2s 319ms/step - loss: 0.2096 - accuracy: 0.9307 - val_loss: 0.3560 - val_accuracy: 0.9168\n",
      "Epoch 42/45\n",
      "7/7 [==============================] - 2s 328ms/step - loss: 0.1917 - accuracy: 0.9463 - val_loss: 0.3674 - val_accuracy: 0.8867\n",
      "Epoch 43/45\n",
      "7/7 [==============================] - 2s 341ms/step - loss: 0.1950 - accuracy: 0.9393 - val_loss: 0.3660 - val_accuracy: 0.8991\n",
      "Epoch 44/45\n",
      "7/7 [==============================] - 2s 331ms/step - loss: 0.1938 - accuracy: 0.9359 - val_loss: 0.3645 - val_accuracy: 0.9186\n",
      "Epoch 45/45\n",
      "7/7 [==============================] - 2s 325ms/step - loss: 0.1949 - accuracy: 0.9480 - val_loss: 0.3751 - val_accuracy: 0.9097\n"
     ]
    }
   ],
   "source": [
    "from sklearn.model_selection import GroupKFold\n",
    "from sklearn.preprocessing import StandardScaler\n",
    "import numpy as np\n",
    "\n",
    "gkf = GroupKFold(n_splits=2)  # Set the number of splits (adjust as needed)\n",
    "accuracy = []\n",
    "\n",
    "model_r = grumodel()\n",
    "\n",
    "for train_index, val_index in gkf.split(data_array, label_array, groups=group_array):\n",
    "    train_features, train_labels = data_array[train_index], label_array[train_index]\n",
    "    val_features, val_labels = data_array[val_index], label_array[val_index]\n",
    "\n",
    "    scaler = StandardScaler()\n",
    "    train_features = scaler.fit_transform(train_features.reshape(-1, train_features.shape[-1])).reshape(train_features.shape)\n",
    "    val_features = scaler.transform(val_features.reshape(-1, val_features.shape[-1])).reshape(val_features.shape)\n",
    "\n",
    "    history = model.fit(train_features, train_labels, epochs=45, batch_size=96, validation_data=(val_features, val_labels))\n",
    "\n",
    "    # Collect the accuracy for each fold\n",
    "    accuracy.append(history.history['accuracy'])  # Adjust based on your metric of interest\n",
    "\n"
   ]
  },
  {
   "cell_type": "code",
   "execution_count": 62,
   "id": "fd50fdb1",
   "metadata": {},
   "outputs": [
    {
     "data": {
      "image/png": "[encoded data removed]",
      "text/plain": [
       "<Figure size 1000x600 with 1 Axes>"
      ]
     },
     "metadata": {},
     "output_type": "display_data"
    }
   ],
   "source": [
    "# Plot the training accuracy for each fold\n",
    "plt.figure(figsize=(10, 6))\n",
    "for i in range(len(accuracy)):\n",
    "    plt.plot(accuracy[i], label=f'Fold {i + 1}')\n",
    "\n",
    "plt.xlabel('Epochs')\n",
    "plt.ylabel('Accuracy')\n",
    "plt.title('Training Accuracy for Each Fold')\n",
    "plt.legend()\n",
    "plt.show()"
   ]
  },
  {
   "cell_type": "code",
   "execution_count": 37,
   "id": "8f4f2f18",
   "metadata": {},
   "outputs": [
    {
     "name": "stdout",
     "output_type": "stream",
     "text": [
      "8/8 [==============================] - 1s 56ms/step - loss: 0.6812 - accuracy: 0.8468\n",
      "[0.6812399625778198, 0.8468084931373596]\n"
     ]
    }
   ],
   "source": [
    "d=model_r.evaluate(val_features,val_labels)\n",
    "print(d)"
   ]
  },
  {
   "cell_type": "code",
   "execution_count": 42,
   "id": "0149bf87",
   "metadata": {},
   "outputs": [
    {
     "name": "stdout",
     "output_type": "stream",
     "text": [
      "Model: \"sequential_7\"\n",
      "_________________________________________________________________\n",
      " Layer (type)                Output Shape              Param #   \n",
      "=================================================================\n",
      " simple_rnn_6 (SimpleRNN)    (None, 6250, 32)          1664      \n",
      "                                                                 \n",
      " dense_7 (Dense)             (None, 6250, 1)           33        \n",
      "                                                                 \n",
      "=================================================================\n",
      "Total params: 1697 (6.63 KB)\n",
      "Trainable params: 1697 (6.63 KB)\n",
      "Non-trainable params: 0 (0.00 Byte)\n",
      "_________________________________________________________________\n",
      "You must install pydot (`pip install pydot`) and install graphviz (see instructions at https://graphviz.gitlab.io/download/) for plot_model to work.\n"
     ]
    }
   ],
   "source": []
  },
  {
   "cell_type": "code",
   "execution_count": 40,
   "id": "ae7bb112",
   "metadata": {},
   "outputs": [
    {
     "data": {
      "text/plain": [
       "['Collecting pydot',\n",
       " '  Downloading pydot-1.4.2-py2.py3-none-any.whl (21 kB)',\n",
       " 'Requirement already satisfied: pyparsing>=2.1.4 in c:\\\\users\\\\dell\\\\anaconda3\\\\lib\\\\site-packages (from pydot) (3.0.9)',\n",
       " 'Installing collected packages: pydot',\n",
       " 'Successfully installed pydot-1.4.2']"
      ]
     },
     "execution_count": 40,
     "metadata": {},
     "output_type": "execute_result"
    }
   ],
   "source": [
    "!! pip install pydot"
   ]
  },
  {
   "cell_type": "code",
   "execution_count": 43,
   "id": "ad198f27",
   "metadata": {},
   "outputs": [
    {
     "name": "stdout",
     "output_type": "stream",
     "text": [
      "Model: \"sequential_8\"\n",
      "_________________________________________________________________\n",
      " Layer (type)                Output Shape              Param #   \n",
      "=================================================================\n",
      " simple_rnn_7 (SimpleRNN)    (None, 6250, 32)          1664      \n",
      "                                                                 \n",
      " dense_8 (Dense)             (None, 6250, 1)           33        \n",
      "                                                                 \n",
      "=================================================================\n",
      "Total params: 1697 (6.63 KB)\n",
      "Trainable params: 1697 (6.63 KB)\n",
      "Non-trainable params: 0 (0.00 Byte)\n",
      "_________________________________________________________________\n",
      "You must install pydot (`pip install pydot`) and install graphviz (see instructions at https://graphviz.gitlab.io/download/) for plot_model to work.\n"
     ]
    }
   ],
   "source": [
    "from tensorflow.keras.layers import SimpleRNN, Dense\n",
    "from tensorflow.keras.models import Sequential\n",
    "from tensorflow.keras.utils import plot_model\n",
    "\n",
    "def grumodel():\n",
    "    model_r = Sequential([\n",
    "        SimpleRNN(32, activation='relu', return_sequences=True, input_shape=(6250, 19), dropout=0.2),\n",
    "        Dense(1)  # Output layer for regression\n",
    "    ])\n",
    "\n",
    "    model_r.compile(optimizer='adam', loss='mean_squared_error')\n",
    "    return model_r\n",
    "\n",
    "model_r = grumodel()\n",
    "model_r.summary()\n",
    "\n",
    "# Save the visualization to a file\n",
    "plot_model(model_r, to_file='gru_model.png', show_shapes=True, show_layer_names=True)\n"
   ]
  },
  {
   "cell_type": "code",
   "execution_count": 44,
   "id": "7ceb070d",
   "metadata": {},
   "outputs": [
    {
     "data": {
      "text/plain": [
       "['Requirement already satisfied: pydot in c:\\\\users\\\\dell\\\\anaconda3\\\\lib\\\\site-packages (1.4.2)',\n",
       " 'Collecting graphviz',\n",
       " '  Downloading graphviz-0.20.1-py3-none-any.whl (47 kB)',\n",
       " '     ---------------------------------------- 0.0/47.0 kB ? eta -:--:--',\n",
       " '     ---------------- --------------------- 20.5/47.0 kB 320.0 kB/s eta 0:00:01',\n",
       " '     ---------------- --------------------- 20.5/47.0 kB 320.0 kB/s eta 0:00:01',\n",
       " '     -------------------------------------- 47.0/47.0 kB 294.4 kB/s eta 0:00:00',\n",
       " 'Requirement already satisfied: pyparsing>=2.1.4 in c:\\\\users\\\\dell\\\\anaconda3\\\\lib\\\\site-packages (from pydot) (3.0.9)',\n",
       " 'Installing collected packages: graphviz',\n",
       " 'Successfully installed graphviz-0.20.1']"
      ]
     },
     "execution_count": 44,
     "metadata": {},
     "output_type": "execute_result"
    }
   ],
   "source": [
    "!! pip install pydot graphviz\n"
   ]
  },
  {
   "cell_type": "code",
   "execution_count": 48,
   "id": "cd27f063",
   "metadata": {},
   "outputs": [
    {
     "name": "stdout",
     "output_type": "stream",
     "text": [
      "Model: \"sequential_12\"\n",
      "_________________________________________________________________\n",
      " Layer (type)                Output Shape              Param #   \n",
      "=================================================================\n",
      " simple_rnn_11 (SimpleRNN)   (None, 6250, 32)          1664      \n",
      "                                                                 \n",
      " dense_12 (Dense)            (None, 6250, 1)           33        \n",
      "                                                                 \n",
      "=================================================================\n",
      "Total params: 1697 (6.63 KB)\n",
      "Trainable params: 1697 (6.63 KB)\n",
      "Non-trainable params: 0 (0.00 Byte)\n",
      "_________________________________________________________________\n",
      "You must install pydot (`pip install pydot`) and install graphviz (see instructions at https://graphviz.gitlab.io/download/) for plot_model to work.\n"
     ]
    }
   ],
   "source": [
    "from tensorflow.keras.layers import SimpleRNN, Dense\n",
    "from tensorflow.keras.models import Sequential\n",
    "from tensorflow.keras.utils import plot_model\n",
    "\n",
    "def grumodel():\n",
    "    model_r = Sequential([\n",
    "        SimpleRNN(32, activation='relu', return_sequences=True, input_shape=(6250, 19), dropout=0.2),\n",
    "        Dense(1)  # Output layer for regression\n",
    "    ])\n",
    "\n",
    "    model_r.compile(optimizer='adam', loss='mean_squared_error')\n",
    "    return model_r\n",
    "\n",
    "model_r = grumodel()\n",
    "model_r.summary()\n",
    "\n",
    "# Display the model architecture\n",
    "plot_model(model_r, show_shapes=True, show_layer_names=True)\n",
    "\n"
   ]
  },
  {
   "cell_type": "code",
   "execution_count": 53,
   "id": "da9ab390",
   "metadata": {
    "scrolled": true
   },
   "outputs": [
    {
     "ename": "KeyboardInterrupt",
     "evalue": "",
     "output_type": "error",
     "traceback": [
      "\u001b[1;31m---------------------------------------------------------------------------\u001b[0m",
      "\u001b[1;31mKeyboardInterrupt\u001b[0m                         Traceback (most recent call last)",
      "Cell \u001b[1;32mIn[53], line 15\u001b[0m\n\u001b[0;32m     12\u001b[0m train_features, train_labels \u001b[38;5;241m=\u001b[39m data_array[train_index], label_array[train_index]\n\u001b[0;32m     13\u001b[0m val_features, val_labels \u001b[38;5;241m=\u001b[39m data_array[val_index], label_array[val_index]\n\u001b[1;32m---> 15\u001b[0m scaler \u001b[38;5;241m=\u001b[39m StandardScaler()\n\u001b[0;32m     16\u001b[0m train_features \u001b[38;5;241m=\u001b[39m scaler\u001b[38;5;241m.\u001b[39mfit_transform(train_features\u001b[38;5;241m.\u001b[39mreshape(\u001b[38;5;241m-\u001b[39m\u001b[38;5;241m1\u001b[39m, train_features\u001b[38;5;241m.\u001b[39mshape[\u001b[38;5;241m-\u001b[39m\u001b[38;5;241m1\u001b[39m]))\u001b[38;5;241m.\u001b[39mreshape(train_features\u001b[38;5;241m.\u001b[39mshape)\n\u001b[0;32m     17\u001b[0m val_features \u001b[38;5;241m=\u001b[39m scaler\u001b[38;5;241m.\u001b[39mtransform(val_features\u001b[38;5;241m.\u001b[39mreshape(\u001b[38;5;241m-\u001b[39m\u001b[38;5;241m1\u001b[39m, val_features\u001b[38;5;241m.\u001b[39mshape[\u001b[38;5;241m-\u001b[39m\u001b[38;5;241m1\u001b[39m]))\u001b[38;5;241m.\u001b[39mreshape(val_features\u001b[38;5;241m.\u001b[39mshape)\n",
      "File \u001b[1;32m~\\anaconda3\\Lib\\site-packages\\sklearn\\preprocessing\\_data.py:794\u001b[0m, in \u001b[0;36mStandardScaler.__init__\u001b[1;34m(self, copy, with_mean, with_std)\u001b[0m\n\u001b[0;32m    658\u001b[0m \u001b[38;5;250m\u001b[39m\u001b[38;5;124;03m\"\"\"Standardize features by removing the mean and scaling to unit variance.\u001b[39;00m\n\u001b[0;32m    659\u001b[0m \n\u001b[0;32m    660\u001b[0m \u001b[38;5;124;03mThe standard score of a sample `x` is calculated as:\u001b[39;00m\n\u001b[1;32m   (...)\u001b[0m\n\u001b[0;32m    785\u001b[0m \u001b[38;5;124;03m[[3. 3.]]\u001b[39;00m\n\u001b[0;32m    786\u001b[0m \u001b[38;5;124;03m\"\"\"\u001b[39;00m\n\u001b[0;32m    788\u001b[0m _parameter_constraints: \u001b[38;5;28mdict\u001b[39m \u001b[38;5;241m=\u001b[39m {\n\u001b[0;32m    789\u001b[0m     \u001b[38;5;124m\"\u001b[39m\u001b[38;5;124mcopy\u001b[39m\u001b[38;5;124m\"\u001b[39m: [\u001b[38;5;124m\"\u001b[39m\u001b[38;5;124mboolean\u001b[39m\u001b[38;5;124m\"\u001b[39m],\n\u001b[0;32m    790\u001b[0m     \u001b[38;5;124m\"\u001b[39m\u001b[38;5;124mwith_mean\u001b[39m\u001b[38;5;124m\"\u001b[39m: [\u001b[38;5;124m\"\u001b[39m\u001b[38;5;124mboolean\u001b[39m\u001b[38;5;124m\"\u001b[39m],\n\u001b[0;32m    791\u001b[0m     \u001b[38;5;124m\"\u001b[39m\u001b[38;5;124mwith_std\u001b[39m\u001b[38;5;124m\"\u001b[39m: [\u001b[38;5;124m\"\u001b[39m\u001b[38;5;124mboolean\u001b[39m\u001b[38;5;124m\"\u001b[39m],\n\u001b[0;32m    792\u001b[0m }\n\u001b[1;32m--> 794\u001b[0m \u001b[38;5;28;01mdef\u001b[39;00m \u001b[38;5;21m__init__\u001b[39m(\u001b[38;5;28mself\u001b[39m, \u001b[38;5;241m*\u001b[39m, copy\u001b[38;5;241m=\u001b[39m\u001b[38;5;28;01mTrue\u001b[39;00m, with_mean\u001b[38;5;241m=\u001b[39m\u001b[38;5;28;01mTrue\u001b[39;00m, with_std\u001b[38;5;241m=\u001b[39m\u001b[38;5;28;01mTrue\u001b[39;00m):\n\u001b[0;32m    795\u001b[0m     \u001b[38;5;28mself\u001b[39m\u001b[38;5;241m.\u001b[39mwith_mean \u001b[38;5;241m=\u001b[39m with_mean\n\u001b[0;32m    796\u001b[0m     \u001b[38;5;28mself\u001b[39m\u001b[38;5;241m.\u001b[39mwith_std \u001b[38;5;241m=\u001b[39m with_std\n",
      "\u001b[1;31mKeyboardInterrupt\u001b[0m: "
     ]
    }
   ],
   "source": [
    "import matplotlib.pyplot as plt\n",
    "from sklearn.model_selection import GroupKFold\n",
    "from sklearn.preprocessing import StandardScaler\n",
    "import numpy as np\n",
    "\n",
    "# Assuming you have defined the `resenetmodel` function\n",
    "\n",
    "gkf = GroupKFold(n_splits=6)  # Set the number of splits (adjust as needed)\n",
    "accuracy = []\n",
    "\n",
    "for fold, (train_index, val_index) in enumerate(gkf.split(data_array, label_array, groups=group_array), 1):\n",
    "    train_features, train_labels = data_array[train_index], label_array[train_index]\n",
    "    val_features, val_labels = data_array[val_index], label_array[val_index]\n",
    "\n",
    "    scaler = StandardScaler()\n",
    "    train_features = scaler.fit_transform(train_features.reshape(-1, train_features.shape[-1])).reshape(train_features.shape)\n",
    "    val_features = scaler.transform(val_features.reshape(-1, val_features.shape[-1])).reshape(val_features.shape)\n",
    "\n",
    "    model = resenetmodel()  # Assuming this function creates a new instance of your model\n",
    "\n",
    "    history = model.fit(train_features, train_labels, epochs=45, batch_size=96, validation_data=(val_features, val_labels))\n",
    "\n",
    "    # Collect the accuracy for each fold\n",
    "    accuracy.append(history.history['accuracy'])  # Adjust based on your metric of interest\n",
    "\n",
    "# Plot the training accuracy for each fold\n",
    "plt.figure(figsize=(10, 6))\n",
    "for i in range(len(accuracy)):\n",
    "    plt.plot(accuracy[i], label=f'Fold {i + 1}')\n",
    "\n",
    "plt.xlabel('Epochs')\n",
    "plt.ylabel('Accuracy')\n",
    "plt.title('Training Accuracy for Each Fold')\n",
    "plt.legend()\n",
    "plt.show()\n"
   ]
  },
  {
   "cell_type": "code",
   "execution_count": null,
   "id": "957f78b7",
   "metadata": {},
   "outputs": [],
   "source": []
  }
 ],
 "metadata": {
  "kernelspec": {
   "display_name": "Python 3 (ipykernel)",
   "language": "python",
   "name": "python3"
  },
  "language_info": {
   "codemirror_mode": {
    "name": "ipython",
    "version": 3
   },
   "file_extension": ".py",
   "mimetype": "text/x-python",
   "name": "python",
   "nbconvert_exporter": "python",
   "pygments_lexer": "ipython3",
   "version": "3.11.5"
  }
 },
 "nbformat": 4,
 "nbformat_minor": 5
}
